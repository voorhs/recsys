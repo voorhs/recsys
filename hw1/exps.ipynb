{
 "cells": [
  {
   "cell_type": "markdown",
   "metadata": {},
   "source": [
    "# Коллаборативная фильтрация"
   ]
  },
  {
   "cell_type": "markdown",
   "metadata": {},
   "source": [
    "Нужно самостоятельно реализовать колоборативную фильтрацию методами:\n",
    "\n",
    "1. Knn нужно реализовать 2 базовых метода\n",
    "    1. Простой KNN (в библиотеке surprise называется KNNBasic)\n",
    "    2. Непараметрическая регрессия Надарайя-Ватсона (в библиотеке surprise называется KNNWithMeans)\n",
    "2. SVD-разложение\n",
    "    1. Метод SGD\n",
    "    2. Метод ALS\n",
    "3. SVD++\n",
    "\n",
    "С полученными методами нужно произвести следующие исследования:\n",
    "- Нужно сравнить время работы всех реализованных алгоритмов. \n",
    "- Нужно сравнить точность (в смысле RMSE) всех реализованных алгоритмов.\n",
    "- Качество (в смысле RMSE) kNN по параметру k\n",
    "- Качество (в смысле RMSE) SVD по числу факторов\n",
    "- Качество (в смысле RMSE) SVD по числу итераций в SGD\n",
    "\n",
    "В качестве датасэта можно использовать, например, https://grouplens.org/datasets/movielens/ (можно любой другой).\n",
    "\n",
    "Можно вдохновляться библиотеками (но не копировать код): \n",
    "- https://implicit.readthedocs.io/en/latest/quickstart.html \n",
    "- https://surprise.readthedocs.io/en/stable/getting_started.html"
   ]
  },
  {
   "cell_type": "markdown",
   "metadata": {},
   "source": [
    "## Data Preprocessing"
   ]
  },
  {
   "cell_type": "code",
   "execution_count": 6,
   "metadata": {},
   "outputs": [],
   "source": [
    "from surprise import Dataset\n",
    "\n",
    "# movielens dataset https://grouplens.org/datasets/movielens/\n",
    "dataset = Dataset.load_builtin('ml-100k')\n",
    "\n",
    "# all existing ratings (that's why `full`)\n",
    "trainset = dataset.build_full_trainset()\n",
    "\n",
    "# all absent ratings\n",
    "# note: not NAs but with set complement (that's why `anti`)\n",
    "_testset = trainset.build_anti_testset()"
   ]
  },
  {
   "cell_type": "markdown",
   "metadata": {},
   "source": [
    "Таблица супер разрежена:"
   ]
  },
  {
   "cell_type": "code",
   "execution_count": null,
   "metadata": {},
   "outputs": [
    {
     "name": "stdout",
     "output_type": "stream",
     "text": [
      "total ratings: 1586126\n",
      "unknown ratings: 1486126 (93.70%)\n"
     ]
    }
   ],
   "source": [
    "total = len(trainset.ur) * len(trainset.ir)\n",
    "unknown = len(_testset)\n",
    "print(f'total ratings: {total}\\nunknown ratings: {unknown} ({unknown/total*100:.2f}%)')"
   ]
  },
  {
   "cell_type": "markdown",
   "metadata": {},
   "source": [
    "Поэтому уменьшим размер тестовой выборки до размеров трейновой выборки"
   ]
  },
  {
   "cell_type": "code",
   "execution_count": null,
   "metadata": {},
   "outputs": [
    {
     "name": "stdout",
     "output_type": "stream",
     "text": [
      "100000\n"
     ]
    }
   ],
   "source": [
    "from random import sample\n",
    "\n",
    "test_size = total - unknown\n",
    "testset = sample(_testset, test_size)\n",
    "print(len(testset))"
   ]
  },
  {
   "cell_type": "code",
   "execution_count": null,
   "metadata": {},
   "outputs": [
    {
     "data": {
      "text/plain": [
       "(1, 5)"
      ]
     },
     "execution_count": 4,
     "metadata": {},
     "output_type": "execute_result"
    }
   ],
   "source": [
    "trainset.rating_scale"
   ]
  },
  {
   "cell_type": "code",
   "execution_count": null,
   "metadata": {},
   "outputs": [
    {
     "data": {
      "image/png": "[encoded data removed]",
      "text/plain": [
       "<Figure size 800x400 with 2 Axes>"
      ]
     },
     "metadata": {},
     "output_type": "display_data"
    }
   ],
   "source": [
    "import seaborn as sns\n",
    "sns.set_style('whitegrid')\n",
    "import matplotlib.pyplot as plt\n",
    "\n",
    "rating_counts = [len(ur) for ur in trainset.ur.values()]\n",
    "user_counts = [len(ir) for ir in trainset.ir.values()]\n",
    "\n",
    "fig, ax = plt.subplots(1, 2, figsize=(8, 4))\n",
    "sns.histplot(x=rating_counts, ax=ax[0])\n",
    "sns.histplot(x=user_counts, ax=ax[1])\n",
    "ax[0].set_xlabel('ratings by user')\n",
    "ax[1].set_xlabel('ratings for item')\n",
    "ax[0].set_ylabel('number of such users')\n",
    "ax[1].set_ylabel('number of such items')\n",
    "ax[0].set_yscale('log')\n",
    "ax[1].set_yscale('log')\n",
    "fig.suptitle('movielens stats')\n",
    "plt.tight_layout()\n",
    "plt.show()"
   ]
  },
  {
   "cell_type": "markdown",
   "metadata": {},
   "source": [
    "## KNNBasic"
   ]
  },
  {
   "cell_type": "markdown",
   "metadata": {},
   "source": [
    "### Data Stuff"
   ]
  },
  {
   "cell_type": "code",
   "execution_count": null,
   "metadata": {},
   "outputs": [
    {
     "name": "stdout",
     "output_type": "stream",
     "text": [
      "--2023-10-01 12:59:59--  https://files.grouplens.org/datasets/movielens/ml-100k.zip\n",
      "Resolving files.grouplens.org (files.grouplens.org)... 128.101.65.152\n",
      "Connecting to files.grouplens.org (files.grouplens.org)|128.101.65.152|:443... connected.\n",
      "HTTP request sent, awaiting response... 200 OK\n",
      "Length: 4924029 (4,7M) [application/zip]\n",
      "Saving to: ‘ml-100k.zip’\n",
      "\n",
      "ml-100k.zip         100%[===================>]   4,70M  1,32MB/s    in 3,7s    \n",
      "\n",
      "2023-10-01 13:00:03 (1,27 MB/s) - ‘ml-100k.zip’ saved [4924029/4924029]\n",
      "\n"
     ]
    }
   ],
   "source": [
    "! wget https://files.grouplens.org/datasets/movielens/ml-100k.zip"
   ]
  },
  {
   "cell_type": "code",
   "execution_count": null,
   "metadata": {},
   "outputs": [
    {
     "name": "stdout",
     "output_type": "stream",
     "text": [
      "Archive:  ml-100k.zip\n",
      "   creating: ml-100k/\n",
      "  inflating: ml-100k/allbut.pl       \n",
      "  inflating: ml-100k/mku.sh          \n",
      "  inflating: ml-100k/README          \n",
      "  inflating: ml-100k/u.data          \n",
      "  inflating: ml-100k/u.genre         \n",
      "  inflating: ml-100k/u.info          \n",
      "  inflating: ml-100k/u.item          \n",
      "  inflating: ml-100k/u.occupation    \n",
      "  inflating: ml-100k/u.user          \n",
      "  inflating: ml-100k/u1.base         \n",
      "  inflating: ml-100k/u1.test         \n",
      "  inflating: ml-100k/u2.base         \n",
      "  inflating: ml-100k/u2.test         \n",
      "  inflating: ml-100k/u3.base         \n",
      "  inflating: ml-100k/u3.test         \n",
      "  inflating: ml-100k/u4.base         \n",
      "  inflating: ml-100k/u4.test         \n",
      "  inflating: ml-100k/u5.base         \n",
      "  inflating: ml-100k/u5.test         \n",
      "  inflating: ml-100k/ua.base         \n",
      "  inflating: ml-100k/ua.test         \n",
      "  inflating: ml-100k/ub.base         \n",
      "  inflating: ml-100k/ub.test         \n"
     ]
    }
   ],
   "source": [
    "! unzip ml-100k.zip"
   ]
  },
  {
   "cell_type": "code",
   "execution_count": 1,
   "metadata": {},
   "outputs": [
    {
     "data": {
      "text/html": [
       "<div>\n",
       "<style scoped>\n",
       "    .dataframe tbody tr th:only-of-type {\n",
       "        vertical-align: middle;\n",
       "    }\n",
       "\n",
       "    .dataframe tbody tr th {\n",
       "        vertical-align: top;\n",
       "    }\n",
       "\n",
       "    .dataframe thead th {\n",
       "        text-align: right;\n",
       "    }\n",
       "</style>\n",
       "<table border=\"1\" class=\"dataframe\">\n",
       "  <thead>\n",
       "    <tr style=\"text-align: right;\">\n",
       "      <th></th>\n",
       "      <th>user_id</th>\n",
       "      <th>item_id</th>\n",
       "      <th>rating</th>\n",
       "    </tr>\n",
       "  </thead>\n",
       "  <tbody>\n",
       "    <tr>\n",
       "      <th>count</th>\n",
       "      <td>90570.000000</td>\n",
       "      <td>90570.000000</td>\n",
       "      <td>90570.000000</td>\n",
       "    </tr>\n",
       "    <tr>\n",
       "      <th>mean</th>\n",
       "      <td>461.494038</td>\n",
       "      <td>428.104891</td>\n",
       "      <td>3.523827</td>\n",
       "    </tr>\n",
       "    <tr>\n",
       "      <th>std</th>\n",
       "      <td>266.004364</td>\n",
       "      <td>333.088029</td>\n",
       "      <td>1.126073</td>\n",
       "    </tr>\n",
       "    <tr>\n",
       "      <th>min</th>\n",
       "      <td>1.000000</td>\n",
       "      <td>1.000000</td>\n",
       "      <td>1.000000</td>\n",
       "    </tr>\n",
       "    <tr>\n",
       "      <th>25%</th>\n",
       "      <td>256.000000</td>\n",
       "      <td>174.000000</td>\n",
       "      <td>3.000000</td>\n",
       "    </tr>\n",
       "    <tr>\n",
       "      <th>50%</th>\n",
       "      <td>442.000000</td>\n",
       "      <td>324.000000</td>\n",
       "      <td>4.000000</td>\n",
       "    </tr>\n",
       "    <tr>\n",
       "      <th>75%</th>\n",
       "      <td>682.000000</td>\n",
       "      <td>636.000000</td>\n",
       "      <td>4.000000</td>\n",
       "    </tr>\n",
       "    <tr>\n",
       "      <th>max</th>\n",
       "      <td>943.000000</td>\n",
       "      <td>1682.000000</td>\n",
       "      <td>5.000000</td>\n",
       "    </tr>\n",
       "  </tbody>\n",
       "</table>\n",
       "</div>"
      ],
      "text/plain": [
       "            user_id       item_id        rating\n",
       "count  90570.000000  90570.000000  90570.000000\n",
       "mean     461.494038    428.104891      3.523827\n",
       "std      266.004364    333.088029      1.126073\n",
       "min        1.000000      1.000000      1.000000\n",
       "25%      256.000000    174.000000      3.000000\n",
       "50%      442.000000    324.000000      4.000000\n",
       "75%      682.000000    636.000000      4.000000\n",
       "max      943.000000   1682.000000      5.000000"
      ]
     },
     "execution_count": 1,
     "metadata": {},
     "output_type": "execute_result"
    }
   ],
   "source": [
    "import pandas as pd\n",
    "import numpy as np\n",
    "import os\n",
    "\n",
    "\n",
    "def load(fname, path='/home/ilya/repos/recsys/hw1/ml-100k'):\n",
    "    path = os.path.join(path, fname)\n",
    "    return pd.read_csv(path, sep='\\t', names=['user_id', 'item_id', 'rating', 'timestamp']).drop(columns=['timestamp'])\n",
    "\n",
    "df = load('ua.base')\n",
    "df.describe()"
   ]
  },
  {
   "cell_type": "code",
   "execution_count": 2,
   "metadata": {},
   "outputs": [],
   "source": [
    "def load_train():\n",
    "    return load('ua.base')\n",
    "def load_test():\n",
    "    return load('ua.test')\n",
    "\n",
    "df_train = load_train()\n",
    "df_test = load_train()"
   ]
  },
  {
   "cell_type": "markdown",
   "metadata": {},
   "source": [
    "Разделение на сплиты корректно:"
   ]
  },
  {
   "cell_type": "code",
   "execution_count": 3,
   "metadata": {},
   "outputs": [
    {
     "name": "stdout",
     "output_type": "stream",
     "text": [
      "0\n",
      "0\n"
     ]
    }
   ],
   "source": [
    "print(len(set(df_test.item_id.unique()) - set(df_train.item_id.unique())))\n",
    "print(len(set(df_test.user_id.unique()) - set(df_train.user_id.unique())))"
   ]
  },
  {
   "cell_type": "markdown",
   "metadata": {},
   "source": [
    "### Implementing"
   ]
  },
  {
   "cell_type": "code",
   "execution_count": 4,
   "metadata": {},
   "outputs": [],
   "source": [
    "metric = 'msd'\n",
    "min_support = 1\n",
    "k = 2"
   ]
  },
  {
   "cell_type": "code",
   "execution_count": 5,
   "metadata": {},
   "outputs": [
    {
     "name": "stdout",
     "output_type": "stream",
     "text": [
      "...preprocessing\n",
      "...counting common items\n",
      "...computing similarities\n",
      "...finding neighbors\n",
      "...predicting\n"
     ]
    }
   ],
   "source": [
    "from hw1.colfil.knn import _preprocess, _n_common_items, _similarities, _k_neighbors, _predictions, knn_user_based\n",
    "\n",
    "pred = knn_user_based(df_train, df_test, k, metric, min_support, verbose=True, with_means=True)"
   ]
  },
  {
   "cell_type": "code",
   "execution_count": 6,
   "metadata": {},
   "outputs": [
    {
     "data": {
      "text/html": [
       "<div>\n",
       "<style scoped>\n",
       "    .dataframe tbody tr th:only-of-type {\n",
       "        vertical-align: middle;\n",
       "    }\n",
       "\n",
       "    .dataframe tbody tr th {\n",
       "        vertical-align: top;\n",
       "    }\n",
       "\n",
       "    .dataframe thead th {\n",
       "        text-align: right;\n",
       "    }\n",
       "</style>\n",
       "<table border=\"1\" class=\"dataframe\">\n",
       "  <thead>\n",
       "    <tr style=\"text-align: right;\">\n",
       "      <th></th>\n",
       "      <th>rating</th>\n",
       "      <th>impossible</th>\n",
       "      <th>_user_id</th>\n",
       "      <th>_item_id</th>\n",
       "    </tr>\n",
       "  </thead>\n",
       "  <tbody>\n",
       "    <tr>\n",
       "      <th>1048</th>\n",
       "      <td>-inf</td>\n",
       "      <td>True</td>\n",
       "      <td>6</td>\n",
       "      <td>575</td>\n",
       "    </tr>\n",
       "    <tr>\n",
       "      <th>1124</th>\n",
       "      <td>-inf</td>\n",
       "      <td>True</td>\n",
       "      <td>6</td>\n",
       "      <td>651</td>\n",
       "    </tr>\n",
       "    <tr>\n",
       "      <th>1364</th>\n",
       "      <td>-inf</td>\n",
       "      <td>True</td>\n",
       "      <td>9</td>\n",
       "      <td>687</td>\n",
       "    </tr>\n",
       "    <tr>\n",
       "      <th>2100</th>\n",
       "      <td>-inf</td>\n",
       "      <td>True</td>\n",
       "      <td>12</td>\n",
       "      <td>805</td>\n",
       "    </tr>\n",
       "    <tr>\n",
       "      <th>2116</th>\n",
       "      <td>-inf</td>\n",
       "      <td>True</td>\n",
       "      <td>12</td>\n",
       "      <td>821</td>\n",
       "    </tr>\n",
       "    <tr>\n",
       "      <th>...</th>\n",
       "      <td>...</td>\n",
       "      <td>...</td>\n",
       "      <td>...</td>\n",
       "      <td>...</td>\n",
       "    </tr>\n",
       "    <tr>\n",
       "      <th>82471</th>\n",
       "      <td>-inf</td>\n",
       "      <td>True</td>\n",
       "      <td>862</td>\n",
       "      <td>1675</td>\n",
       "    </tr>\n",
       "    <tr>\n",
       "      <th>82472</th>\n",
       "      <td>-inf</td>\n",
       "      <td>True</td>\n",
       "      <td>862</td>\n",
       "      <td>1676</td>\n",
       "    </tr>\n",
       "    <tr>\n",
       "      <th>84897</th>\n",
       "      <td>-inf</td>\n",
       "      <td>True</td>\n",
       "      <td>882</td>\n",
       "      <td>1677</td>\n",
       "    </tr>\n",
       "    <tr>\n",
       "      <th>86747</th>\n",
       "      <td>-inf</td>\n",
       "      <td>True</td>\n",
       "      <td>895</td>\n",
       "      <td>1678</td>\n",
       "    </tr>\n",
       "    <tr>\n",
       "      <th>88335</th>\n",
       "      <td>-inf</td>\n",
       "      <td>True</td>\n",
       "      <td>915</td>\n",
       "      <td>1679</td>\n",
       "    </tr>\n",
       "  </tbody>\n",
       "</table>\n",
       "<p>146 rows × 4 columns</p>\n",
       "</div>"
      ],
      "text/plain": [
       "       rating  impossible  _user_id  _item_id\n",
       "1048     -inf        True         6       575\n",
       "1124     -inf        True         6       651\n",
       "1364     -inf        True         9       687\n",
       "2100     -inf        True        12       805\n",
       "2116     -inf        True        12       821\n",
       "...       ...         ...       ...       ...\n",
       "82471    -inf        True       862      1675\n",
       "82472    -inf        True       862      1676\n",
       "84897    -inf        True       882      1677\n",
       "86747    -inf        True       895      1678\n",
       "88335    -inf        True       915      1679\n",
       "\n",
       "[146 rows x 4 columns]"
      ]
     },
     "execution_count": 6,
     "metadata": {},
     "output_type": "execute_result"
    }
   ],
   "source": [
    "pred.loc[pred.impossible]"
   ]
  },
  {
   "cell_type": "markdown",
   "metadata": {},
   "source": [
    "### Experimenting"
   ]
  },
  {
   "cell_type": "markdown",
   "metadata": {},
   "source": []
  }
 ],
 "metadata": {
  "kernelspec": {
   "display_name": "VENV",
   "language": "python",
   "name": "python3"
  },
  "language_info": {
   "codemirror_mode": {
    "name": "ipython",
    "version": 3
   },
   "file_extension": ".py",
   "mimetype": "text/x-python",
   "name": "python",
   "nbconvert_exporter": "python",
   "pygments_lexer": "ipython3",
   "version": "3.9.6"
  },
  "orig_nbformat": 4
 },
 "nbformat": 4,
 "nbformat_minor": 2
}
