{
 "cells": [
  {
   "cell_type": "markdown",
   "metadata": {},
   "source": [
    "# Коллаборативная фильтрация"
   ]
  },
  {
   "cell_type": "markdown",
   "metadata": {},
   "source": [
    "Нужно самостоятельно реализовать колоборативную фильтрацию методами:\n",
    "\n",
    "1. Knn нужно реализовать 2 базовых метода\n",
    "    1. Простой KNN (в библиотеке surprise называется KNNBasic)\n",
    "    2. Непараметрическая регрессия Надарайя-Ватсона (в библиотеке surprise называется KNNWithMeans)\n",
    "2. SVD-разложение\n",
    "    1. Метод SGD\n",
    "    2. Метод ALS\n",
    "3. SVD++\n",
    "\n",
    "С полученными методами нужно произвести следующие исследования:\n",
    "- Нужно сравнить время работы всех реализованных алгоритмов. \n",
    "- Нужно сравнить точность (в смысле RMSE) всех реализованных алгоритмов.\n",
    "- Качество (в смысле RMSE) kNN по параметру k\n",
    "- Качество (в смысле RMSE) SVD по числу факторов\n",
    "- Качество (в смысле RMSE) SVD по числу итераций в SGD\n",
    "\n",
    "В качестве датасэта можно использовать, например, https://grouplens.org/datasets/movielens/ (можно любой другой).\n",
    "\n",
    "Можно вдохновляться библиотеками (но не копировать код): \n",
    "- https://implicit.readthedocs.io/en/latest/quickstart.html \n",
    "- https://surprise.readthedocs.io/en/stable/getting_started.html"
   ]
  },
  {
   "cell_type": "markdown",
   "metadata": {},
   "source": [
    "## Load Data"
   ]
  },
  {
   "cell_type": "code",
   "execution_count": 1,
   "metadata": {},
   "outputs": [],
   "source": [
    "# ! wget https://files.grouplens.org/datasets/movielens/ml-100k.zip"
   ]
  },
  {
   "cell_type": "code",
   "execution_count": 2,
   "metadata": {},
   "outputs": [],
   "source": [
    "# ! unzip ml-100k.zip"
   ]
  },
  {
   "cell_type": "code",
   "execution_count": 3,
   "metadata": {},
   "outputs": [
    {
     "data": {
      "text/html": [
       "<div>\n",
       "<style scoped>\n",
       "    .dataframe tbody tr th:only-of-type {\n",
       "        vertical-align: middle;\n",
       "    }\n",
       "\n",
       "    .dataframe tbody tr th {\n",
       "        vertical-align: top;\n",
       "    }\n",
       "\n",
       "    .dataframe thead th {\n",
       "        text-align: right;\n",
       "    }\n",
       "</style>\n",
       "<table border=\"1\" class=\"dataframe\">\n",
       "  <thead>\n",
       "    <tr style=\"text-align: right;\">\n",
       "      <th></th>\n",
       "      <th>user_id</th>\n",
       "      <th>item_id</th>\n",
       "      <th>rating</th>\n",
       "    </tr>\n",
       "  </thead>\n",
       "  <tbody>\n",
       "    <tr>\n",
       "      <th>count</th>\n",
       "      <td>90570.000000</td>\n",
       "      <td>90570.000000</td>\n",
       "      <td>90570.000000</td>\n",
       "    </tr>\n",
       "    <tr>\n",
       "      <th>mean</th>\n",
       "      <td>461.494038</td>\n",
       "      <td>428.104891</td>\n",
       "      <td>3.523827</td>\n",
       "    </tr>\n",
       "    <tr>\n",
       "      <th>std</th>\n",
       "      <td>266.004364</td>\n",
       "      <td>333.088029</td>\n",
       "      <td>1.126073</td>\n",
       "    </tr>\n",
       "    <tr>\n",
       "      <th>min</th>\n",
       "      <td>1.000000</td>\n",
       "      <td>1.000000</td>\n",
       "      <td>1.000000</td>\n",
       "    </tr>\n",
       "    <tr>\n",
       "      <th>25%</th>\n",
       "      <td>256.000000</td>\n",
       "      <td>174.000000</td>\n",
       "      <td>3.000000</td>\n",
       "    </tr>\n",
       "    <tr>\n",
       "      <th>50%</th>\n",
       "      <td>442.000000</td>\n",
       "      <td>324.000000</td>\n",
       "      <td>4.000000</td>\n",
       "    </tr>\n",
       "    <tr>\n",
       "      <th>75%</th>\n",
       "      <td>682.000000</td>\n",
       "      <td>636.000000</td>\n",
       "      <td>4.000000</td>\n",
       "    </tr>\n",
       "    <tr>\n",
       "      <th>max</th>\n",
       "      <td>943.000000</td>\n",
       "      <td>1682.000000</td>\n",
       "      <td>5.000000</td>\n",
       "    </tr>\n",
       "  </tbody>\n",
       "</table>\n",
       "</div>"
      ],
      "text/plain": [
       "            user_id       item_id        rating\n",
       "count  90570.000000  90570.000000  90570.000000\n",
       "mean     461.494038    428.104891      3.523827\n",
       "std      266.004364    333.088029      1.126073\n",
       "min        1.000000      1.000000      1.000000\n",
       "25%      256.000000    174.000000      3.000000\n",
       "50%      442.000000    324.000000      4.000000\n",
       "75%      682.000000    636.000000      4.000000\n",
       "max      943.000000   1682.000000      5.000000"
      ]
     },
     "execution_count": 3,
     "metadata": {},
     "output_type": "execute_result"
    }
   ],
   "source": [
    "import pandas as pd\n",
    "import numpy as np\n",
    "import os\n",
    "\n",
    "\n",
    "def load(fname, path='/home/ilya/repos/recsys/hw1/ml-100k'):\n",
    "    path = os.path.join(path, fname)\n",
    "    return pd.read_csv(path, sep='\\t', names=['user_id', 'item_id', 'rating', 'timestamp']).drop(columns=['timestamp'])\n",
    "\n",
    "df = load('ua.base')\n",
    "df.describe()"
   ]
  },
  {
   "cell_type": "code",
   "execution_count": 4,
   "metadata": {},
   "outputs": [],
   "source": [
    "def load_train():\n",
    "    return load('ua.base')\n",
    "def load_test():\n",
    "    return load('ua.test')\n",
    "\n",
    "df_train = load_train()\n",
    "df_test = load_test()"
   ]
  },
  {
   "cell_type": "markdown",
   "metadata": {},
   "source": [
    "Разделение на сплиты немного с подлецой:"
   ]
  },
  {
   "cell_type": "code",
   "execution_count": 5,
   "metadata": {},
   "outputs": [
    {
     "name": "stdout",
     "output_type": "stream",
     "text": [
      "2\n",
      "0\n",
      "553\n",
      "0\n"
     ]
    }
   ],
   "source": [
    "print(len(set(df_test.item_id.unique()) - set(df_train.item_id.unique())))\n",
    "print(len(set(df_test.user_id.unique()) - set(df_train.user_id.unique())))\n",
    "print(len(set(df_train.item_id.unique()) - set(df_test.item_id.unique())))\n",
    "print(len(set(df_train.user_id.unique()) - set(df_test.user_id.unique())))"
   ]
  },
  {
   "cell_type": "markdown",
   "metadata": {},
   "source": [
    "## Demo"
   ]
  },
  {
   "cell_type": "markdown",
   "metadata": {},
   "source": [
    "### KNN"
   ]
  },
  {
   "cell_type": "markdown",
   "metadata": {},
   "source": [
    "Для каждой пары `(u, i)` найти $k$ ближайших к `u` пользователей таких, что они оценили как минимум `min_support` таких же фильмов, что и `u`. За расшифровкой математических обозначений, использованных ниже, обращайтесь в доки surprise: https://surprise.readthedocs.io/en/stable/notation_standards.html#notation-standards\n",
    "\n",
    "Реализованы расстояния `cosine`, `msd`, повторяющие поведение сюрпрайза: https://surprise.readthedocs.io/en/stable/similarities.html\n",
    "\n",
    "Аггрегация оценок ближайших соседей для предсказания соответствует KNNBasic и KNNWithMeans: https://surprise.readthedocs.io/en/stable/knn_inspired.html"
   ]
  },
  {
   "cell_type": "code",
   "execution_count": 6,
   "metadata": {},
   "outputs": [],
   "source": [
    "metric = 'msd'\n",
    "min_support = 5\n",
    "k = 5\n",
    "with_means = True"
   ]
  },
  {
   "cell_type": "code",
   "execution_count": 7,
   "metadata": {},
   "outputs": [
    {
     "name": "stdout",
     "output_type": "stream",
     "text": [
      "...preprocessing\n",
      "...counting common items\n",
      "...computing similarities\n",
      "...finding neighbors\n",
      "...predicting\n"
     ]
    }
   ],
   "source": [
    "from colfil.knn import knn_user_based\n",
    "\n",
    "df_train_, df_test_ = knn_user_based(df_train, df_test, k, metric, min_support, verbose=True, with_means=False)"
   ]
  },
  {
   "cell_type": "code",
   "execution_count": 8,
   "metadata": {},
   "outputs": [
    {
     "name": "stdout",
     "output_type": "stream",
     "text": [
      "3\n"
     ]
    },
    {
     "data": {
      "text/html": [
       "<div>\n",
       "<style scoped>\n",
       "    .dataframe tbody tr th:only-of-type {\n",
       "        vertical-align: middle;\n",
       "    }\n",
       "\n",
       "    .dataframe tbody tr th {\n",
       "        vertical-align: top;\n",
       "    }\n",
       "\n",
       "    .dataframe thead th {\n",
       "        text-align: right;\n",
       "    }\n",
       "</style>\n",
       "<table border=\"1\" class=\"dataframe\">\n",
       "  <thead>\n",
       "    <tr style=\"text-align: right;\">\n",
       "      <th></th>\n",
       "      <th>user_id</th>\n",
       "      <th>item_id</th>\n",
       "      <th>rating</th>\n",
       "      <th>_user_id</th>\n",
       "      <th>_item_id</th>\n",
       "      <th>pred_rating</th>\n",
       "      <th>impossible</th>\n",
       "    </tr>\n",
       "  </thead>\n",
       "  <tbody>\n",
       "    <tr>\n",
       "      <th>2415</th>\n",
       "      <td>242</td>\n",
       "      <td>361</td>\n",
       "      <td>5</td>\n",
       "      <td>241</td>\n",
       "      <td>360</td>\n",
       "      <td>3.523827</td>\n",
       "      <td>True</td>\n",
       "    </tr>\n",
       "    <tr>\n",
       "      <th>4049</th>\n",
       "      <td>405</td>\n",
       "      <td>1582</td>\n",
       "      <td>1</td>\n",
       "      <td>404</td>\n",
       "      <td>1581</td>\n",
       "      <td>3.523827</td>\n",
       "      <td>True</td>\n",
       "    </tr>\n",
       "    <tr>\n",
       "      <th>6749</th>\n",
       "      <td>675</td>\n",
       "      <td>1653</td>\n",
       "      <td>5</td>\n",
       "      <td>674</td>\n",
       "      <td>1652</td>\n",
       "      <td>3.523827</td>\n",
       "      <td>True</td>\n",
       "    </tr>\n",
       "  </tbody>\n",
       "</table>\n",
       "</div>"
      ],
      "text/plain": [
       "      user_id  item_id  rating  _user_id  _item_id  pred_rating  impossible\n",
       "2415      242      361       5       241       360     3.523827        True\n",
       "4049      405     1582       1       404      1581     3.523827        True\n",
       "6749      675     1653       5       674      1652     3.523827        True"
      ]
     },
     "execution_count": 8,
     "metadata": {},
     "output_type": "execute_result"
    }
   ],
   "source": [
    "imp = df_test_.loc[df_test_.impossible]\n",
    "print(len(imp))\n",
    "imp.head()"
   ]
  },
  {
   "cell_type": "code",
   "execution_count": 9,
   "metadata": {},
   "outputs": [
    {
     "data": {
      "text/plain": [
       "1.1535689380152743"
      ]
     },
     "execution_count": 9,
     "metadata": {},
     "output_type": "execute_result"
    }
   ],
   "source": [
    "def rmse_knn(df):\n",
    "    df_possible = df[df.impossible == False]\n",
    "    return ((df_possible.rating - df_possible.pred_rating) ** 2).mean() ** 0.5\n",
    "\n",
    "rmse_knn(df_test_)"
   ]
  },
  {
   "cell_type": "markdown",
   "metadata": {},
   "source": [
    "### SVD SGD"
   ]
  },
  {
   "cell_type": "markdown",
   "metadata": {},
   "source": [
    "Реализован алгоритм, описанный в доках сюрпрайза: https://surprise.readthedocs.io/en/stable/matrix_factorization.html#surprise.prediction_algorithms.matrix_factorization.SVD"
   ]
  },
  {
   "cell_type": "code",
   "execution_count": 10,
   "metadata": {},
   "outputs": [],
   "source": [
    "hparams = dict(\n",
    "    n_factors=100,\n",
    "    n_epochs=10,\n",
    "    batch_size=128,\n",
    "    init_mean=0,\n",
    "    init_std_dev=.1,\n",
    "    biased=False,\n",
    "    lr=.005,\n",
    "    reg=.02,\n",
    "    random_state=None,\n",
    "    return_logs=False\n",
    ")"
   ]
  },
  {
   "cell_type": "code",
   "execution_count": 11,
   "metadata": {},
   "outputs": [],
   "source": [
    "from colfil import svd\n",
    "\n",
    "df_train_, df_test_ = svd(df_train, df_test, **hparams)"
   ]
  },
  {
   "cell_type": "code",
   "execution_count": 12,
   "metadata": {},
   "outputs": [
    {
     "data": {
      "text/plain": [
       "1.059415294295266"
      ]
     },
     "execution_count": 12,
     "metadata": {},
     "output_type": "execute_result"
    }
   ],
   "source": [
    "def rmse(df):\n",
    "    return ((df.rating - df.pred_rating) ** 2).mean() ** 0.5\n",
    "\n",
    "rmse(df_test_)"
   ]
  },
  {
   "cell_type": "markdown",
   "metadata": {},
   "source": [
    "### SVD ALS"
   ]
  },
  {
   "cell_type": "markdown",
   "metadata": {},
   "source": [
    "Введем обозначения:\n",
    "- $r_u\\in\\mathbb{R}^{n}$ --- все оценки пользователя $u$\n",
    "- $p_u\\in\\mathbb{R}^{f}$ --- факторы (эмбеддинг) пользователя $u$\n",
    "- $Q\\in\\mathbb{R}^{n\\times f}$ --- факторы всех предметов, которые оценил $u$\n",
    "\n",
    "Ошибка: $f(p_u) = {1\\over2}\\|r_u-Qp_u\\|_2^2+{1\\over2}\\lambda\\|p_u\\|_2^2$. Выведем градиент:\n",
    "$$\n",
    "\\begin{align*}\n",
    "df&={1\\over2}d\\langle r_u-Qp_u,r_u-Qp_u\\rangle+{1\\over2}\\lambda d\\|p_u\\|_2^2\\\\\n",
    "&=\\langle r_u-Qp_u, r_u-Qdp_u\\rangle+\\lambda \\langle p_u,dp_u\\rangle\\\\\n",
    "&=-(r_u-Qp_u)^TQdp_u+\\lambda p_u^Tdp_u\\\\\n",
    "&=\\langle-Q^T(r_u-Qp_u)+\\lambda p_u,dp_u\\rangle\\\\\n",
    "\\Rightarrow \\nabla_{p_u}f&=-Q^T(r_u-Qp_u)+\\lambda p_u\n",
    "\\end{align*}\n",
    "$$\n",
    "\n",
    "Точка минимума задается уравнением $(Q^TQ+\\lambda I_f)p_u=Q^Tr_u$. Случай с предметами $i$, а не пользователями, аналогичен.\n"
   ]
  },
  {
   "cell_type": "code",
   "execution_count": 13,
   "metadata": {},
   "outputs": [],
   "source": [
    "hparams = dict(\n",
    "    n_factors=100,\n",
    "    n_epochs=10,\n",
    "    init_mean=0,\n",
    "    init_std_dev=.1,\n",
    "    # biased=False,\n",
    "    reg=.02,\n",
    "    random_state=None,\n",
    "    verbose=True\n",
    ")"
   ]
  },
  {
   "cell_type": "code",
   "execution_count": 14,
   "metadata": {},
   "outputs": [
    {
     "name": "stdout",
     "output_type": "stream",
     "text": [
      "i_epoch=0 train_rmse=0.5970736904185785\n",
      "i_epoch=1 train_rmse=0.24188672348574353\n",
      "i_epoch=2 train_rmse=0.15943656798237774\n",
      "i_epoch=3 train_rmse=0.12019551610714738\n",
      "i_epoch=4 train_rmse=0.0969566079947624\n",
      "i_epoch=5 train_rmse=0.08155087790723797\n",
      "i_epoch=6 train_rmse=0.07048416599394934\n",
      "i_epoch=7 train_rmse=0.06202613146342693\n",
      "i_epoch=8 train_rmse=0.05531394783221021\n",
      "i_epoch=9 train_rmse=0.049863771104949176\n"
     ]
    }
   ],
   "source": [
    "from colfil import svdals\n",
    "\n",
    "df_train_, df_test_ = svdals(df_train, df_test, **hparams)"
   ]
  },
  {
   "cell_type": "code",
   "execution_count": 15,
   "metadata": {},
   "outputs": [
    {
     "data": {
      "text/plain": [
       "1.8362499288284264"
      ]
     },
     "execution_count": 15,
     "metadata": {},
     "output_type": "execute_result"
    }
   ],
   "source": [
    "def rmse(df):\n",
    "    return ((df.rating - df.pred_rating) ** 2).mean() ** 0.5\n",
    "\n",
    "rmse(df_test_)"
   ]
  },
  {
   "cell_type": "markdown",
   "metadata": {},
   "source": [
    "### SVD++"
   ]
  },
  {
   "cell_type": "markdown",
   "metadata": {},
   "source": [
    "Реализован алгоритм сюрпрайза: https://surprise.readthedocs.io/en/stable/matrix_factorization.html#surprise.prediction_algorithms.matrix_factorization.SVDpp"
   ]
  },
  {
   "cell_type": "code",
   "execution_count": 16,
   "metadata": {},
   "outputs": [],
   "source": [
    "hparams = dict(\n",
    "    n_factors=100,\n",
    "    n_epochs=5,\n",
    "    batch_size=128,\n",
    "    init_mean=0,\n",
    "    init_std_dev=.1,\n",
    "    biased=False,\n",
    "    lr=.005,\n",
    "    reg=.02,\n",
    "    random_state=None,\n",
    "    return_logs=False,\n",
    "    verbose=True\n",
    ")"
   ]
  },
  {
   "cell_type": "code",
   "execution_count": 17,
   "metadata": {},
   "outputs": [
    {
     "name": "stdout",
     "output_type": "stream",
     "text": [
      "=== i_epoch=0 ===\n",
      "i_batch=0, rmse=1.0597\n",
      "i_batch=177, rmse=1.1689\n",
      "i_batch=354, rmse=1.1224\n",
      "i_batch=531, rmse=1.0693\n",
      "\n",
      "=== i_epoch=1 ===\n",
      "i_batch=0, rmse=1.0519\n",
      "i_batch=177, rmse=1.0005\n",
      "i_batch=354, rmse=0.9660\n",
      "i_batch=531, rmse=1.0240\n",
      "\n",
      "=== i_epoch=2 ===\n",
      "i_batch=0, rmse=1.0168\n",
      "i_batch=177, rmse=1.0458\n",
      "i_batch=354, rmse=0.9937\n",
      "i_batch=531, rmse=0.9493\n",
      "\n",
      "=== i_epoch=3 ===\n",
      "i_batch=0, rmse=1.0334\n",
      "i_batch=177, rmse=1.0444\n",
      "i_batch=354, rmse=0.9040\n",
      "i_batch=531, rmse=1.0238\n",
      "\n",
      "=== i_epoch=4 ===\n",
      "i_batch=0, rmse=0.9368\n",
      "i_batch=177, rmse=0.8506\n",
      "i_batch=354, rmse=0.9528\n",
      "i_batch=531, rmse=0.9196\n",
      "\n"
     ]
    }
   ],
   "source": [
    "from colfil import svdpp\n",
    "\n",
    "df_train_, df_test_ = svdpp(df_train, df_test, **hparams)"
   ]
  },
  {
   "cell_type": "code",
   "execution_count": 18,
   "metadata": {},
   "outputs": [
    {
     "data": {
      "text/plain": [
       "1.1073097835054937"
      ]
     },
     "execution_count": 18,
     "metadata": {},
     "output_type": "execute_result"
    }
   ],
   "source": [
    "def rmse(df):\n",
    "    return ((df.rating - df.pred_rating) ** 2).mean() ** 0.5\n",
    "\n",
    "rmse(df_test_)"
   ]
  },
  {
   "cell_type": "markdown",
   "metadata": {},
   "source": [
    "## Experiments"
   ]
  },
  {
   "cell_type": "code",
   "execution_count": 19,
   "metadata": {},
   "outputs": [],
   "source": [
    "from time import time\n",
    "import itertools as it\n",
    "from collections import defaultdict\n",
    "\n",
    "\n",
    "def my_grid_search(param_grid, const_parameters, func, rmse_callable, verbose=False):\n",
    "    res = defaultdict(list)\n",
    "    keys = param_grid.keys()\n",
    "    base_vals = param_grid.values()\n",
    "    for cur_params in it.product(*base_vals):\n",
    "        args = {key: val for key, val in zip(keys, cur_params)}\n",
    "        if verbose:\n",
    "            print(args)\n",
    "        \n",
    "        start = time()\n",
    "        _, df_test_ = func(**args, **const_parameters)\n",
    "        end = time()\n",
    "\n",
    "        res['time'].append(end - start)\n",
    "        res['rmse'].append(rmse_callable(df_test_))\n",
    "        \n",
    "        for name, val in args.items():\n",
    "            res[name].append(val)\n",
    "    return res\n",
    "    "
   ]
  },
  {
   "cell_type": "markdown",
   "metadata": {},
   "source": [
    "### KNN"
   ]
  },
  {
   "cell_type": "code",
   "execution_count": 20,
   "metadata": {},
   "outputs": [
    {
     "name": "stdout",
     "output_type": "stream",
     "text": [
      "{'metric': 'msd', 'min_support': 1, 'k': 1, 'with_means': False}\n",
      "{'metric': 'msd', 'min_support': 1, 'k': 1, 'with_means': True}\n",
      "{'metric': 'msd', 'min_support': 1, 'k': 2, 'with_means': False}\n",
      "{'metric': 'msd', 'min_support': 1, 'k': 2, 'with_means': True}\n",
      "{'metric': 'msd', 'min_support': 1, 'k': 3, 'with_means': False}\n"
     ]
    }
   ],
   "source": [
    "from colfil import knn_user_based\n",
    "\n",
    "\n",
    "param_grid = dict(\n",
    "    metric = ['msd', 'cosine'],\n",
    "    min_support = range(1, 50),\n",
    "    k = range(1, 50),\n",
    "    with_means = [False, True]\n",
    ")\n",
    "\n",
    "def rmse_knn(df):\n",
    "    # df = df[df.impossible == False]\n",
    "    return ((df.rating - df.pred_rating) ** 2).mean() ** 0.5\n",
    "\n",
    "res = my_grid_search(\n",
    "    param_grid,\n",
    "    const_parameters=dict(df_train=df_train, df_test=df_test),\n",
    "    func=knn_user_based,\n",
    "    rmse_callable=rmse_knn,\n",
    "    verbose=True\n",
    ")"
   ]
  },
  {
   "cell_type": "code",
   "execution_count": null,
   "metadata": {},
   "outputs": [],
   "source": [
    "import dill\n",
    "\n",
    "dill.dump_session('session.db')"
   ]
  },
  {
   "cell_type": "markdown",
   "metadata": {},
   "source": [
    "### SVD SGD"
   ]
  },
  {
   "cell_type": "code",
   "execution_count": null,
   "metadata": {},
   "outputs": [],
   "source": [
    "from colfil import svd\n",
    "import numpy as np\n",
    "\n",
    "param_grid = dict(\n",
    "    n_factors = range(64, 513, 64),\n",
    "    lr=np.logspace(-3, -1, 10),\n",
    "    reg=np.logspace(-3, -1, 10),\n",
    ")\n",
    "\n",
    "def rmse(df):\n",
    "    return ((df.rating - df.pred_rating) ** 2).mean() ** 0.5\n",
    "\n",
    "res_1 = my_grid_search(\n",
    "    param_grid,\n",
    "    const_parameters=dict(df_train=df_train, df_test=df_test),\n",
    "    func=svd,\n",
    "    rmse_callable=rmse,\n",
    "    verbose=True\n",
    ")"
   ]
  },
  {
   "cell_type": "code",
   "execution_count": null,
   "metadata": {},
   "outputs": [],
   "source": [
    "import dill\n",
    "\n",
    "dill.dump_session('session_1.db')"
   ]
  },
  {
   "cell_type": "markdown",
   "metadata": {},
   "source": [
    "### SVD ALS"
   ]
  },
  {
   "cell_type": "code",
   "execution_count": null,
   "metadata": {},
   "outputs": [],
   "source": [
    "from colfil import svdals\n",
    "import numpy as np\n",
    "\n",
    "param_grid = dict(\n",
    "    n_factors = range(64, 513, 64),\n",
    "    reg=np.logspace(-3, -1, 10),\n",
    ")\n",
    "\n",
    "def rmse(df):\n",
    "    return ((df.rating - df.pred_rating) ** 2).mean() ** 0.5\n",
    "\n",
    "res_2 = my_grid_search(\n",
    "    param_grid,\n",
    "    const_parameters=dict(df_train=df_train, df_test=df_test),\n",
    "    func=svdals,\n",
    "    rmse_callable=rmse,\n",
    "    verbose=True\n",
    ")"
   ]
  },
  {
   "cell_type": "code",
   "execution_count": null,
   "metadata": {},
   "outputs": [],
   "source": [
    "import dill\n",
    "\n",
    "dill.dump_session('session_2.db')"
   ]
  },
  {
   "cell_type": "markdown",
   "metadata": {},
   "source": [
    "### SVD++"
   ]
  },
  {
   "cell_type": "code",
   "execution_count": null,
   "metadata": {},
   "outputs": [],
   "source": [
    "from colfil import svdpp\n",
    "import numpy as np\n",
    "\n",
    "param_grid = dict(\n",
    "    n_factors = range(64, 513, 64),\n",
    "    lr=np.logspace(-3, -1, 10),\n",
    "    reg=np.logspace(-3, -1, 10),\n",
    ")\n",
    "\n",
    "def rmse(df):\n",
    "    return ((df.rating - df.pred_rating) ** 2).mean() ** 0.5\n",
    "\n",
    "res_3 = my_grid_search(\n",
    "    param_grid,\n",
    "    const_parameters=dict(df_train=df_train, df_test=df_test),\n",
    "    func=svdpp,\n",
    "    rmse_callable=rmse,\n",
    "    verbose=True\n",
    ")"
   ]
  },
  {
   "cell_type": "code",
   "execution_count": null,
   "metadata": {},
   "outputs": [],
   "source": [
    "import dill\n",
    "\n",
    "dill.dump_session('session_3.db')"
   ]
  }
 ],
 "metadata": {
  "kernelspec": {
   "display_name": "VENV",
   "language": "python",
   "name": "python3"
  },
  "language_info": {
   "codemirror_mode": {
    "name": "ipython",
    "version": 3
   },
   "file_extension": ".py",
   "mimetype": "text/x-python",
   "name": "python",
   "nbconvert_exporter": "python",
   "pygments_lexer": "ipython3",
   "version": "3.9.6"
  },
  "orig_nbformat": 4
 },
 "nbformat": 4,
 "nbformat_minor": 2
}
