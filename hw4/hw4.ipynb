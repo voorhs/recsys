{
 "cells": [
  {
   "cell_type": "markdown",
   "metadata": {},
   "source": [
    "# Hybrid Recommender System"
   ]
  },
  {
   "cell_type": "markdown",
   "metadata": {},
   "source": [
    "Домашнее задание №4. Гибридная рекомендательная система.\n",
    "\n",
    "В качестве обучающего датасэта можно использовать любой, но рекомендуется использовать датасэт REKKO https://boosters.pro/championship/rekko_challenge/data.\n",
    "Нужно реализовать (или использовать сделанный из предыдущих домашних работ)\n",
    "1. SVD-разложение\n",
    "2. Архитектуру Neural matrix factorization model (NeuMF) (см. лекцию и сем по нейронным сетям + https://arxiv.org/pdf/1708.05031.pdf +  https://github.com/MaurizioFD/RecSys2019_DeepLearning_Evaluation), на вход которой подаются:\n",
    "    - эмбединги длинны n по users \n",
    "    - эмбединги длинны n по items  \n",
    "3. Гибридную архитектуру нейронную сеть, которая на вход получает:\n",
    "    - эмбединги длинны n по users \n",
    "    - эмбединги длинны n по items \n",
    "    - признаки, которые можно извлечь из объекта (см.  baseline.ipynb, который есть в датасэт REKKO.)\n",
    "    - признаки по пользователю (подумайте какие например можно извлечь из bookmarks.csv)\n",
    "\n",
    "Если вы используете другой датасэт, то признаки могу быть другими.\n",
    "Для гибридную архитектуру можно использовать NeuMF, рядом подать дополнительные входы. Их можно провязать полносвязанными слоями с основной частью. Можно это делать разными способами ближе к началу сети, или ближе концу. Попробуйте разные архитектуры, оцените их качество и скорость обучения. Обоснуйте свой финальный выбор.\n",
    "\n",
    "Сравнить:\n",
    "- SVD-разложения (построенного на только rating.csv) на  8, 10, 12 компонент\n",
    "- Архитектуру NeuMF, где на вход подаются на SVD-разложения 8, 10, 12 компонент\n",
    "- Гибридную архитектуру, где на вход подаются на SVD-разложения 8, 10, 12 компонент\n",
    "\n",
    "Дополнительно можно поисследовать какие-то параметры архитектур. \n",
    "Для оценки качества используйте кросс-валидацию на 3 фолда."
   ]
  },
  {
   "cell_type": "markdown",
   "metadata": {},
   "source": [
    "## Data Preparation"
   ]
  },
  {
   "cell_type": "code",
   "execution_count": 1,
   "metadata": {},
   "outputs": [],
   "source": [
    "import pandas as pd\n",
    "import numpy as np\n",
    "import os\n",
    "import json\n",
    "\n",
    "import seaborn as sns\n",
    "sns.set_style('whitegrid')\n",
    "import matplotlib.pyplot as plt"
   ]
  },
  {
   "cell_type": "markdown",
   "metadata": {},
   "source": [
    "### Load"
   ]
  },
  {
   "cell_type": "code",
   "execution_count": 2,
   "metadata": {},
   "outputs": [],
   "source": [
    "DATA_PATH = '/home/ilya/repos/recsys/data/rekko'"
   ]
  },
  {
   "cell_type": "code",
   "execution_count": 3,
   "metadata": {},
   "outputs": [
    {
     "name": "stdout",
     "output_type": "stream",
     "text": [
      "(191421, 7)\n"
     ]
    },
    {
     "data": {
      "text/html": [
       "<div>\n",
       "<style scoped>\n",
       "    .dataframe tbody tr th:only-of-type {\n",
       "        vertical-align: middle;\n",
       "    }\n",
       "\n",
       "    .dataframe tbody tr th {\n",
       "        vertical-align: top;\n",
       "    }\n",
       "\n",
       "    .dataframe thead th {\n",
       "        text-align: right;\n",
       "    }\n",
       "</style>\n",
       "<table border=\"1\" class=\"dataframe\">\n",
       "  <thead>\n",
       "    <tr style=\"text-align: right;\">\n",
       "      <th></th>\n",
       "      <th>src_index</th>\n",
       "      <th>user_uid</th>\n",
       "      <th>element_uid</th>\n",
       "      <th>rating</th>\n",
       "      <th>ts</th>\n",
       "      <th>user_id</th>\n",
       "      <th>item_id</th>\n",
       "    </tr>\n",
       "  </thead>\n",
       "  <tbody>\n",
       "    <tr>\n",
       "      <th>0</th>\n",
       "      <td>124670</td>\n",
       "      <td>163842</td>\n",
       "      <td>3488</td>\n",
       "      <td>10</td>\n",
       "      <td>4.350876e+07</td>\n",
       "      <td>0</td>\n",
       "      <td>0</td>\n",
       "    </tr>\n",
       "    <tr>\n",
       "      <th>1</th>\n",
       "      <td>161369</td>\n",
       "      <td>163842</td>\n",
       "      <td>8493</td>\n",
       "      <td>10</td>\n",
       "      <td>4.331289e+07</td>\n",
       "      <td>0</td>\n",
       "      <td>1</td>\n",
       "    </tr>\n",
       "    <tr>\n",
       "      <th>2</th>\n",
       "      <td>166450</td>\n",
       "      <td>163842</td>\n",
       "      <td>893</td>\n",
       "      <td>6</td>\n",
       "      <td>4.328506e+07</td>\n",
       "      <td>0</td>\n",
       "      <td>2</td>\n",
       "    </tr>\n",
       "    <tr>\n",
       "      <th>3</th>\n",
       "      <td>194406</td>\n",
       "      <td>163842</td>\n",
       "      <td>8149</td>\n",
       "      <td>6</td>\n",
       "      <td>4.314890e+07</td>\n",
       "      <td>0</td>\n",
       "      <td>3</td>\n",
       "    </tr>\n",
       "    <tr>\n",
       "      <th>4</th>\n",
       "      <td>194542</td>\n",
       "      <td>163842</td>\n",
       "      <td>3490</td>\n",
       "      <td>6</td>\n",
       "      <td>4.314799e+07</td>\n",
       "      <td>0</td>\n",
       "      <td>4</td>\n",
       "    </tr>\n",
       "  </tbody>\n",
       "</table>\n",
       "</div>"
      ],
      "text/plain": [
       "   src_index  user_uid  element_uid  rating            ts  user_id  item_id\n",
       "0     124670    163842         3488      10  4.350876e+07        0        0\n",
       "1     161369    163842         8493      10  4.331289e+07        0        1\n",
       "2     166450    163842          893       6  4.328506e+07        0        2\n",
       "3     194406    163842         8149       6  4.314890e+07        0        3\n",
       "4     194542    163842         3490       6  4.314799e+07        0        4"
      ]
     },
     "execution_count": 3,
     "metadata": {},
     "output_type": "execute_result"
    }
   ],
   "source": [
    "train_ratings = pd.read_csv(\n",
    "    os.path.join(DATA_PATH, 'my_splits', 'train.csv'),\n",
    ")\n",
    "print(train_ratings.shape)\n",
    "train_ratings.head()"
   ]
  },
  {
   "cell_type": "code",
   "execution_count": 49,
   "metadata": {},
   "outputs": [],
   "source": [
    "item_inner2orig = train_ratings.drop_duplicates('item_id')['element_uid'].sort_values().tolist()\n",
    "json.dump(item_inner2orig, open(os.path.join(DATA_PATH, 'hw4', 'item_inner2orig.json'), 'w'))\n",
    "\n",
    "user_inner2orig = train_ratings.drop_duplicates('user_id')['user_uid'].sort_values().tolist()\n",
    "json.dump(user_inner2orig, open(os.path.join(DATA_PATH, 'hw4', 'user_inner2orig.json'), 'w'))"
   ]
  },
  {
   "cell_type": "code",
   "execution_count": 4,
   "metadata": {},
   "outputs": [
    {
     "name": "stdout",
     "output_type": "stream",
     "text": [
      "(9939, 7)\n"
     ]
    },
    {
     "data": {
      "text/html": [
       "<div>\n",
       "<style scoped>\n",
       "    .dataframe tbody tr th:only-of-type {\n",
       "        vertical-align: middle;\n",
       "    }\n",
       "\n",
       "    .dataframe tbody tr th {\n",
       "        vertical-align: top;\n",
       "    }\n",
       "\n",
       "    .dataframe thead th {\n",
       "        text-align: right;\n",
       "    }\n",
       "</style>\n",
       "<table border=\"1\" class=\"dataframe\">\n",
       "  <thead>\n",
       "    <tr style=\"text-align: right;\">\n",
       "      <th></th>\n",
       "      <th>src_index</th>\n",
       "      <th>user_uid</th>\n",
       "      <th>element_uid</th>\n",
       "      <th>rating</th>\n",
       "      <th>ts</th>\n",
       "      <th>user_id</th>\n",
       "      <th>item_id</th>\n",
       "    </tr>\n",
       "  </thead>\n",
       "  <tbody>\n",
       "    <tr>\n",
       "      <th>0</th>\n",
       "      <td>124550</td>\n",
       "      <td>163842</td>\n",
       "      <td>5644</td>\n",
       "      <td>10</td>\n",
       "      <td>4.351188e+07</td>\n",
       "      <td>0</td>\n",
       "      <td>398</td>\n",
       "    </tr>\n",
       "    <tr>\n",
       "      <th>1</th>\n",
       "      <td>112022</td>\n",
       "      <td>17</td>\n",
       "      <td>1577</td>\n",
       "      <td>5</td>\n",
       "      <td>4.357656e+07</td>\n",
       "      <td>1</td>\n",
       "      <td>463</td>\n",
       "    </tr>\n",
       "    <tr>\n",
       "      <th>2</th>\n",
       "      <td>65491</td>\n",
       "      <td>196632</td>\n",
       "      <td>8460</td>\n",
       "      <td>10</td>\n",
       "      <td>4.383999e+07</td>\n",
       "      <td>2</td>\n",
       "      <td>70</td>\n",
       "    </tr>\n",
       "    <tr>\n",
       "      <th>3</th>\n",
       "      <td>50765</td>\n",
       "      <td>557081</td>\n",
       "      <td>4141</td>\n",
       "      <td>10</td>\n",
       "      <td>4.391910e+07</td>\n",
       "      <td>3</td>\n",
       "      <td>254</td>\n",
       "    </tr>\n",
       "    <tr>\n",
       "      <th>4</th>\n",
       "      <td>163887</td>\n",
       "      <td>25</td>\n",
       "      <td>5445</td>\n",
       "      <td>6</td>\n",
       "      <td>4.330148e+07</td>\n",
       "      <td>4</td>\n",
       "      <td>698</td>\n",
       "    </tr>\n",
       "  </tbody>\n",
       "</table>\n",
       "</div>"
      ],
      "text/plain": [
       "   src_index  user_uid  element_uid  rating            ts  user_id  item_id\n",
       "0     124550    163842         5644      10  4.351188e+07        0      398\n",
       "1     112022        17         1577       5  4.357656e+07        1      463\n",
       "2      65491    196632         8460      10  4.383999e+07        2       70\n",
       "3      50765    557081         4141      10  4.391910e+07        3      254\n",
       "4     163887        25         5445       6  4.330148e+07        4      698"
      ]
     },
     "execution_count": 4,
     "metadata": {},
     "output_type": "execute_result"
    }
   ],
   "source": [
    "val_ratings = pd.read_csv(\n",
    "    os.path.join(DATA_PATH, 'my_splits', 'val.csv'),\n",
    ")\n",
    "print(val_ratings.shape)\n",
    "val_ratings.head()"
   ]
  },
  {
   "cell_type": "code",
   "execution_count": 5,
   "metadata": {},
   "outputs": [
    {
     "name": "stdout",
     "output_type": "stream",
     "text": [
      "(9643012, 7)\n"
     ]
    },
    {
     "data": {
      "text/html": [
       "<div>\n",
       "<style scoped>\n",
       "    .dataframe tbody tr th:only-of-type {\n",
       "        vertical-align: middle;\n",
       "    }\n",
       "\n",
       "    .dataframe tbody tr th {\n",
       "        vertical-align: top;\n",
       "    }\n",
       "\n",
       "    .dataframe thead th {\n",
       "        text-align: right;\n",
       "    }\n",
       "</style>\n",
       "<table border=\"1\" class=\"dataframe\">\n",
       "  <thead>\n",
       "    <tr style=\"text-align: right;\">\n",
       "      <th></th>\n",
       "      <th>element_uid</th>\n",
       "      <th>user_uid</th>\n",
       "      <th>consumption_mode</th>\n",
       "      <th>ts</th>\n",
       "      <th>watched_time</th>\n",
       "      <th>device_type</th>\n",
       "      <th>device_manufacturer</th>\n",
       "    </tr>\n",
       "  </thead>\n",
       "  <tbody>\n",
       "    <tr>\n",
       "      <th>0</th>\n",
       "      <td>3336</td>\n",
       "      <td>5177</td>\n",
       "      <td>S</td>\n",
       "      <td>4.430518e+07</td>\n",
       "      <td>4282</td>\n",
       "      <td>0</td>\n",
       "      <td>50</td>\n",
       "    </tr>\n",
       "    <tr>\n",
       "      <th>1</th>\n",
       "      <td>481</td>\n",
       "      <td>593316</td>\n",
       "      <td>S</td>\n",
       "      <td>4.430518e+07</td>\n",
       "      <td>2989</td>\n",
       "      <td>0</td>\n",
       "      <td>11</td>\n",
       "    </tr>\n",
       "    <tr>\n",
       "      <th>2</th>\n",
       "      <td>4128</td>\n",
       "      <td>262355</td>\n",
       "      <td>S</td>\n",
       "      <td>4.430518e+07</td>\n",
       "      <td>833</td>\n",
       "      <td>0</td>\n",
       "      <td>50</td>\n",
       "    </tr>\n",
       "    <tr>\n",
       "      <th>3</th>\n",
       "      <td>6272</td>\n",
       "      <td>74296</td>\n",
       "      <td>S</td>\n",
       "      <td>4.430518e+07</td>\n",
       "      <td>2530</td>\n",
       "      <td>0</td>\n",
       "      <td>99</td>\n",
       "    </tr>\n",
       "    <tr>\n",
       "      <th>4</th>\n",
       "      <td>5543</td>\n",
       "      <td>340623</td>\n",
       "      <td>P</td>\n",
       "      <td>4.430518e+07</td>\n",
       "      <td>6282</td>\n",
       "      <td>0</td>\n",
       "      <td>50</td>\n",
       "    </tr>\n",
       "  </tbody>\n",
       "</table>\n",
       "</div>"
      ],
      "text/plain": [
       "   element_uid  user_uid consumption_mode            ts  watched_time  \\\n",
       "0         3336      5177                S  4.430518e+07          4282   \n",
       "1          481    593316                S  4.430518e+07          2989   \n",
       "2         4128    262355                S  4.430518e+07           833   \n",
       "3         6272     74296                S  4.430518e+07          2530   \n",
       "4         5543    340623                P  4.430518e+07          6282   \n",
       "\n",
       "   device_type  device_manufacturer  \n",
       "0            0                   50  \n",
       "1            0                   11  \n",
       "2            0                   50  \n",
       "3            0                   99  \n",
       "4            0                   50  "
      ]
     },
     "execution_count": 5,
     "metadata": {},
     "output_type": "execute_result"
    }
   ],
   "source": [
    "transactions = pd.read_csv(\n",
    "    os.path.join(DATA_PATH, 'transactions.csv'),\n",
    "    dtype={\n",
    "        'element_uid': np.uint16,\n",
    "        'user_uid': np.uint32,\n",
    "        'consumption_mode': 'category',\n",
    "        'ts': np.float64,\n",
    "        'watched_time': np.uint64,\n",
    "        'device_type': np.uint8,\n",
    "        'device_manufacturer': np.uint8\n",
    "    }\n",
    ")\n",
    "print(transactions.shape)\n",
    "transactions.head()"
   ]
  },
  {
   "cell_type": "code",
   "execution_count": 6,
   "metadata": {},
   "outputs": [
    {
     "data": {
      "text/plain": [
       "{'type': 'movie',\n",
       " 'availability': ['purchase', 'rent'],\n",
       " 'duration': 120,\n",
       " 'feature_1': 6610431.116079764,\n",
       " 'feature_2': 0.7732243944,\n",
       " 'feature_3': 3,\n",
       " 'feature_4': 1.1120138405,\n",
       " 'feature_5': 0.6547073468,\n",
       " 'attributes': [2786, 385, 2799, 3730, 886, 7, 11700, 42, 20, 388, 1934]}"
      ]
     },
     "execution_count": 6,
     "metadata": {},
     "output_type": "execute_result"
    }
   ],
   "source": [
    "import json\n",
    "\n",
    "catalogue = json.load(open(os.path.join(DATA_PATH, 'catalogue.json'), 'r'))\n",
    "catalogue = {int(k): v for k, v in catalogue.items()}\n",
    "catalogue[1]"
   ]
  },
  {
   "cell_type": "markdown",
   "metadata": {},
   "source": [
    " - `attributes` — мешок атрибутов\n",
    " - `availability` — доступность (может содержать значения `purchase`, `rent` и `subscription`)\n",
    " - `duration` — длительность в минутах, округлённая до десятков (продолжительность серии для сериалов и многосерийных фильмов)\n",
    " - `feature_1..5` — пять анонимизированных вещественных и порядковых признаков\n",
    " - `type` — принимает значения `movie`, `multipart_movie` или `series`"
   ]
  },
  {
   "cell_type": "code",
   "execution_count": 7,
   "metadata": {},
   "outputs": [
    {
     "name": "stdout",
     "output_type": "stream",
     "text": [
      "(948216, 3)\n"
     ]
    },
    {
     "data": {
      "text/html": [
       "<div>\n",
       "<style scoped>\n",
       "    .dataframe tbody tr th:only-of-type {\n",
       "        vertical-align: middle;\n",
       "    }\n",
       "\n",
       "    .dataframe tbody tr th {\n",
       "        vertical-align: top;\n",
       "    }\n",
       "\n",
       "    .dataframe thead th {\n",
       "        text-align: right;\n",
       "    }\n",
       "</style>\n",
       "<table border=\"1\" class=\"dataframe\">\n",
       "  <thead>\n",
       "    <tr style=\"text-align: right;\">\n",
       "      <th></th>\n",
       "      <th>user_uid</th>\n",
       "      <th>element_uid</th>\n",
       "      <th>ts</th>\n",
       "    </tr>\n",
       "  </thead>\n",
       "  <tbody>\n",
       "    <tr>\n",
       "      <th>0</th>\n",
       "      <td>301135</td>\n",
       "      <td>7185</td>\n",
       "      <td>4.430516e+07</td>\n",
       "    </tr>\n",
       "    <tr>\n",
       "      <th>1</th>\n",
       "      <td>301135</td>\n",
       "      <td>4083</td>\n",
       "      <td>4.430516e+07</td>\n",
       "    </tr>\n",
       "    <tr>\n",
       "      <th>2</th>\n",
       "      <td>301135</td>\n",
       "      <td>10158</td>\n",
       "      <td>4.430516e+07</td>\n",
       "    </tr>\n",
       "    <tr>\n",
       "      <th>3</th>\n",
       "      <td>301135</td>\n",
       "      <td>2693</td>\n",
       "      <td>4.430516e+07</td>\n",
       "    </tr>\n",
       "    <tr>\n",
       "      <th>4</th>\n",
       "      <td>301135</td>\n",
       "      <td>2181</td>\n",
       "      <td>4.430515e+07</td>\n",
       "    </tr>\n",
       "  </tbody>\n",
       "</table>\n",
       "</div>"
      ],
      "text/plain": [
       "   user_uid  element_uid            ts\n",
       "0    301135         7185  4.430516e+07\n",
       "1    301135         4083  4.430516e+07\n",
       "2    301135        10158  4.430516e+07\n",
       "3    301135         2693  4.430516e+07\n",
       "4    301135         2181  4.430515e+07"
      ]
     },
     "execution_count": 7,
     "metadata": {},
     "output_type": "execute_result"
    }
   ],
   "source": [
    "bookmarks = pd.read_csv(\n",
    "    os.path.join(DATA_PATH, 'bookmarks.csv'),\n",
    "    dtype={\n",
    "        'element_uid': np.uint16,\n",
    "        'user_uid': np.uint32,\n",
    "        'ts': np.float64\n",
    "    }\n",
    ")\n",
    "print(bookmarks.shape)\n",
    "bookmarks.head()"
   ]
  },
  {
   "cell_type": "markdown",
   "metadata": {},
   "source": [
    "### Reduce Auxiliary Tables"
   ]
  },
  {
   "cell_type": "markdown",
   "metadata": {},
   "source": [
    "Из таблиц `transactions`, `bookmarks`, `catalogue` уберем данные, которые не будут участвовать в трейне или валидации"
   ]
  },
  {
   "cell_type": "code",
   "execution_count": 8,
   "metadata": {},
   "outputs": [],
   "source": [
    "all_users = train_ratings.user_uid.unique().tolist()\n",
    "all_items = train_ratings.element_uid.unique().tolist() + val_ratings.item_id.unique().tolist()"
   ]
  },
  {
   "cell_type": "code",
   "execution_count": 9,
   "metadata": {},
   "outputs": [],
   "source": [
    "def reduce(df):\n",
    "    user_mask = df.user_uid.isin(all_users)\n",
    "    item_mask = df.element_uid.isin(all_items)\n",
    "    return df[user_mask & item_mask]"
   ]
  },
  {
   "cell_type": "code",
   "execution_count": 10,
   "metadata": {},
   "outputs": [],
   "source": [
    "transactions = reduce(transactions)\n",
    "bookmarks = reduce(bookmarks)\n",
    "catalogue = {k: v for k, v in catalogue.items() if int(k) in all_items}"
   ]
  },
  {
   "cell_type": "markdown",
   "metadata": {},
   "source": [
    "### EDA `catalogue.json`"
   ]
  },
  {
   "cell_type": "code",
   "execution_count": 11,
   "metadata": {},
   "outputs": [
    {
     "data": {
      "text/plain": [
       "{'type': 'movie',\n",
       " 'availability': ['purchase', 'rent'],\n",
       " 'duration': 120,\n",
       " 'feature_1': 6610431.116079764,\n",
       " 'feature_2': 0.7732243944,\n",
       " 'feature_3': 3,\n",
       " 'feature_4': 1.1120138405,\n",
       " 'feature_5': 0.6547073468,\n",
       " 'attributes': [2786, 385, 2799, 3730, 886, 7, 11700, 42, 20, 388, 1934]}"
      ]
     },
     "execution_count": 11,
     "metadata": {},
     "output_type": "execute_result"
    }
   ],
   "source": [
    "catalogue[1]"
   ]
  },
  {
   "cell_type": "markdown",
   "metadata": {},
   "source": [
    "- `availability` -> вектор из индикаторов самых популярных атрибутов\n",
    "- `duration` -> z-score\n",
    "- `feature_1`, `feature_3`, `feature_4` -> минмакс шкалирование\n",
    "- `feature_2` все ок\n",
    "- `feature_5` -> one-hot по значениям `0., 0.44966669, 0.59271611, 0.65470735, 0.6804097`, а -1 заменю на самое популярное (0.65).\n",
    "- `attributes` -> вектор индикаторов (самых популярных)"
   ]
  },
  {
   "cell_type": "markdown",
   "metadata": {},
   "source": [
    "#### `attributes`"
   ]
  },
  {
   "cell_type": "code",
   "execution_count": 12,
   "metadata": {},
   "outputs": [
    {
     "data": {
      "text/plain": [
       "27825"
      ]
     },
     "execution_count": 12,
     "metadata": {},
     "output_type": "execute_result"
    }
   ],
   "source": [
    "import itertools as it\n",
    "\n",
    "all_attrs = list(it.chain.from_iterable([item['attributes'] for item in catalogue.values()]))\n",
    "unique_attrs = sorted(list(set(all_attrs)))\n",
    "len(unique_attrs)"
   ]
  },
  {
   "cell_type": "code",
   "execution_count": 13,
   "metadata": {},
   "outputs": [
    {
     "name": "stderr",
     "output_type": "stream",
     "text": [
      "/tmp/ipykernel_40322/3428886715.py:1: TqdmWarning: IProgress not found. Please update jupyter and ipywidgets. See https://ipywidgets.readthedocs.io/en/stable/user_install.html\n",
      "  from tqdm.autonotebook import tqdm\n"
     ]
    },
    {
     "name": "stderr",
     "output_type": "stream",
     "text": [
      "100%|██████████| 27825/27825 [00:11<00:00, 2388.75it/s]\n"
     ]
    }
   ],
   "source": [
    "from tqdm.contrib.concurrent import process_map\n",
    "\n",
    "def count_occurences(attr):\n",
    "    return sum(attr in item['attributes'] for item in catalogue.values())\n",
    "\n",
    "occurences = process_map(count_occurences, unique_attrs, max_workers=12, chunksize=10)\n",
    "occurences_frac = np.array(occurences) / len(catalogue)"
   ]
  },
  {
   "cell_type": "markdown",
   "metadata": {},
   "source": [
    "Нет фильмов без атрибутов:"
   ]
  },
  {
   "cell_type": "code",
   "execution_count": 14,
   "metadata": {},
   "outputs": [
    {
     "data": {
      "text/plain": [
       "7686"
      ]
     },
     "execution_count": 14,
     "metadata": {},
     "output_type": "execute_result"
    }
   ],
   "source": [
    "sum(len(item['attributes']) > 0 for item in catalogue.values())"
   ]
  },
  {
   "cell_type": "markdown",
   "metadata": {},
   "source": [
    "Но так же нет универсальнных атрибутов, все они крайне редки:"
   ]
  },
  {
   "cell_type": "code",
   "execution_count": 15,
   "metadata": {},
   "outputs": [
    {
     "data": {
      "text/plain": [
       "0.043450134770889486"
      ]
     },
     "execution_count": 15,
     "metadata": {},
     "output_type": "execute_result"
    }
   ],
   "source": [
    "np.mean(occurences_frac > .001)"
   ]
  },
  {
   "cell_type": "code",
   "execution_count": 16,
   "metadata": {},
   "outputs": [
    {
     "data": {
      "image/png": "[encoded data removed]",
      "text/plain": [
       "<Figure size 640x480 with 1 Axes>"
      ]
     },
     "metadata": {},
     "output_type": "display_data"
    }
   ],
   "source": [
    "plt.hist(occurences_frac, bins=100)\n",
    "plt.yscale('log')\n",
    "plt.ylabel('сколько таких атрибутов')\n",
    "plt.xlabel('в скольки фильмах встретился атрибут')\n",
    "plt.show()"
   ]
  },
  {
   "cell_type": "markdown",
   "metadata": {},
   "source": [
    "В качестве признаков буду использовать индикаторы атрибутов, которые встретились более чем в 5% фильмах (всего таких 31 штук)."
   ]
  },
  {
   "cell_type": "code",
   "execution_count": 17,
   "metadata": {},
   "outputs": [
    {
     "data": {
      "text/plain": [
       "33"
      ]
     },
     "execution_count": 17,
     "metadata": {},
     "output_type": "execute_result"
    }
   ],
   "source": [
    "np.sum(occurences_frac > .05)"
   ]
  },
  {
   "cell_type": "markdown",
   "metadata": {},
   "source": [
    "Номера этих атрибутов:"
   ]
  },
  {
   "cell_type": "code",
   "execution_count": 18,
   "metadata": {},
   "outputs": [
    {
     "name": "stdout",
     "output_type": "stream",
     "text": [
      "[7, 10, 11, 14, 15, 16, 17, 18, 19, 20, 21, 25, 31, 32, 33, 42, 43, 51, 52, 54, 55, 83, 123, 131, 151, 170, 270, 272, 308, 388, 396, 1134, 1492]\n"
     ]
    }
   ],
   "source": [
    "selected_attrs = [attr for i, attr in enumerate(unique_attrs) if occurences_frac[i] > .05]\n",
    "print(selected_attrs)"
   ]
  },
  {
   "cell_type": "markdown",
   "metadata": {},
   "source": [
    "#### `duration`"
   ]
  },
  {
   "cell_type": "markdown",
   "metadata": {},
   "source": [
    "z-score тут к месту, потому что распределение колоколообразное:"
   ]
  },
  {
   "cell_type": "code",
   "execution_count": 19,
   "metadata": {},
   "outputs": [
    {
     "data": {
      "image/png": "[encoded data removed]",
      "text/plain": [
       "<Figure size 640x480 with 1 Axes>"
      ]
     },
     "metadata": {},
     "output_type": "display_data"
    }
   ],
   "source": [
    "durations = [item['duration'] for item in catalogue.values()]\n",
    "plt.hist(durations, bins=20)\n",
    "plt.show()"
   ]
  },
  {
   "cell_type": "markdown",
   "metadata": {},
   "source": [
    "#### `feature_1`"
   ]
  },
  {
   "cell_type": "markdown",
   "metadata": {},
   "source": [
    "Минмакс шкалирование нужно, чтобы избавиться от таких больших масштабов."
   ]
  },
  {
   "cell_type": "code",
   "execution_count": 20,
   "metadata": {},
   "outputs": [
    {
     "data": {
      "image/png": "[encoded data removed]",
      "text/plain": [
       "<Figure size 640x480 with 1 Axes>"
      ]
     },
     "metadata": {},
     "output_type": "display_data"
    }
   ],
   "source": [
    "feature_1 = [item['feature_1'] for item in catalogue.values()]\n",
    "plt.hist(feature_1, bins=20)\n",
    "plt.show()"
   ]
  },
  {
   "cell_type": "markdown",
   "metadata": {},
   "source": [
    "#### `feature_2`"
   ]
  },
  {
   "cell_type": "markdown",
   "metadata": {},
   "source": [
    "И так все ок"
   ]
  },
  {
   "cell_type": "code",
   "execution_count": 21,
   "metadata": {},
   "outputs": [
    {
     "data": {
      "image/png": "[encoded data removed]",
      "text/plain": [
       "<Figure size 640x480 with 1 Axes>"
      ]
     },
     "metadata": {},
     "output_type": "display_data"
    }
   ],
   "source": [
    "feature_2 = [item['feature_2'] for item in catalogue.values()]\n",
    "plt.hist(feature_2, bins=20)\n",
    "plt.show()"
   ]
  },
  {
   "cell_type": "markdown",
   "metadata": {},
   "source": [
    "#### `feature_3`"
   ]
  },
  {
   "cell_type": "markdown",
   "metadata": {},
   "source": [
    "нужен минмакс"
   ]
  },
  {
   "cell_type": "code",
   "execution_count": 22,
   "metadata": {},
   "outputs": [
    {
     "data": {
      "image/png": "[encoded data removed]",
      "text/plain": [
       "<Figure size 640x480 with 1 Axes>"
      ]
     },
     "metadata": {},
     "output_type": "display_data"
    }
   ],
   "source": [
    "feature_3 = [item['feature_3'] for item in catalogue.values()]\n",
    "plt.hist(feature_3, bins=20)\n",
    "plt.show()"
   ]
  },
  {
   "cell_type": "markdown",
   "metadata": {},
   "source": [
    "#### `feature_4`"
   ]
  },
  {
   "cell_type": "markdown",
   "metadata": {},
   "source": [
    "нужен минмакс"
   ]
  },
  {
   "cell_type": "code",
   "execution_count": 23,
   "metadata": {},
   "outputs": [
    {
     "data": {
      "image/png": "[encoded data removed]",
      "text/plain": [
       "<Figure size 640x480 with 1 Axes>"
      ]
     },
     "metadata": {},
     "output_type": "display_data"
    }
   ],
   "source": [
    "feature_4 = [item['feature_4'] for item in catalogue.values()]\n",
    "plt.hist(feature_4, bins=20)\n",
    "plt.yscale('log')\n",
    "plt.show()"
   ]
  },
  {
   "cell_type": "markdown",
   "metadata": {},
   "source": [
    "#### `feature_5`"
   ]
  },
  {
   "cell_type": "markdown",
   "metadata": {},
   "source": [
    "Тут есть пропуски (значения -1)"
   ]
  },
  {
   "cell_type": "code",
   "execution_count": 24,
   "metadata": {},
   "outputs": [
    {
     "data": {
      "image/png": "[encoded data removed]",
      "text/plain": [
       "<Figure size 640x480 with 1 Axes>"
      ]
     },
     "metadata": {},
     "output_type": "display_data"
    }
   ],
   "source": [
    "feature_5 = [item['feature_5'] for item in catalogue.values()]\n",
    "plt.hist(feature_5, bins=100)\n",
    "plt.show()"
   ]
  },
  {
   "cell_type": "code",
   "execution_count": 25,
   "metadata": {},
   "outputs": [
    {
     "data": {
      "image/png": "[encoded data removed]",
      "text/plain": [
       "<Figure size 640x480 with 1 Axes>"
      ]
     },
     "metadata": {},
     "output_type": "display_data"
    }
   ],
   "source": [
    "x = np.array(feature_5)\n",
    "x = x[x > .25]\n",
    "plt.hist(x, bins=100)\n",
    "plt.show()"
   ]
  },
  {
   "cell_type": "markdown",
   "metadata": {},
   "source": [
    "нужен one-hot, а -1 заменю на самое популярное (0.65)."
   ]
  },
  {
   "cell_type": "code",
   "execution_count": 26,
   "metadata": {},
   "outputs": [
    {
     "name": "stdout",
     "output_type": "stream",
     "text": [
      "[-1.0, 0.0, 0.4496666915, 0.5927161087, 0.6547073468, 0.6804096966]\n"
     ]
    }
   ],
   "source": [
    "feature_5_uniques = np.unique(feature_5).tolist()\n",
    "print(feature_5_uniques)"
   ]
  },
  {
   "cell_type": "markdown",
   "metadata": {},
   "source": [
    "#### `type`"
   ]
  },
  {
   "cell_type": "code",
   "execution_count": 27,
   "metadata": {},
   "outputs": [
    {
     "data": {
      "text/plain": [
       "{'movie', 'multipart_movie', 'series'}"
      ]
     },
     "execution_count": 27,
     "metadata": {},
     "output_type": "execute_result"
    }
   ],
   "source": [
    "item_type = [item['type'] for item in catalogue.values()]\n",
    "set(item_type)"
   ]
  },
  {
   "cell_type": "markdown",
   "metadata": {},
   "source": [
    "#### `availability`"
   ]
  },
  {
   "cell_type": "code",
   "execution_count": 28,
   "metadata": {},
   "outputs": [
    {
     "data": {
      "text/plain": [
       "{'purchase', 'rent', 'subscription'}"
      ]
     },
     "execution_count": 28,
     "metadata": {},
     "output_type": "execute_result"
    }
   ],
   "source": [
    "availability = it.chain.from_iterable([item['availability'] for item in catalogue.values()])\n",
    "set(availability)"
   ]
  },
  {
   "cell_type": "markdown",
   "metadata": {},
   "source": [
    "### Preprocessing & Feature Crafting `catalogue.json`"
   ]
  },
  {
   "cell_type": "code",
   "execution_count": 22,
   "metadata": {},
   "outputs": [],
   "source": [
    "def zscore(array):\n",
    "    return (np.array(array) - np.mean(array)) / np.std(array)\n",
    "\n",
    "def minmax(array):\n",
    "    return (np.array(array) - np.min(array)) / (np.max(array) - np.min(array))\n",
    "\n",
    "def feature_5_processor(array):\n",
    "    array = np.array(array)\n",
    "    array[array == -1] = feature_5_uniques[-2]\n",
    "    tmp = feature_5_uniques[1:]\n",
    "    res = [[int(x == t) for t in tmp] for x in array]\n",
    "    return pd.DataFrame(\n",
    "        data=np.array(res),\n",
    "        columns=[f'feature_5_{i}' for i in range(1, len(feature_5_uniques))]\n",
    "    )\n",
    "\n",
    "def attributes_processor():\n",
    "    res = [[int(attr in item['attributes']) for attr in selected_attrs] for item in catalogue.values()]\n",
    "    attributes_df = pd.DataFrame(\n",
    "        data=np.array(res),\n",
    "        columns=[f'attr_{attr}' for attr in selected_attrs]\n",
    "    )\n",
    "    return attributes_df\n",
    "\n",
    "def type_processor():\n",
    "    selected_types = ['movie', 'multipart_movie', 'series']\n",
    "    res = [[int(x == t) for t in selected_types] for x in item_type]\n",
    "    return pd.DataFrame(\n",
    "        data=np.array(res),\n",
    "        columns=[f'type_{attr}' for attr in selected_types]\n",
    "    )\n",
    "    \n",
    "def availability_processor():\n",
    "    selected_avail = ['purchase', 'rent', 'subscription']\n",
    "    column = [item['availability'] for item in catalogue.values()]\n",
    "    res = [[int(t in x) for t in selected_avail] for x in column]\n",
    "    return pd.DataFrame(\n",
    "        data=np.array(res),\n",
    "        columns=[f'avail_{attr}' for attr in selected_avail]\n",
    "    )"
   ]
  },
  {
   "cell_type": "code",
   "execution_count": 30,
   "metadata": {},
   "outputs": [
    {
     "data": {
      "text/html": [
       "<div>\n",
       "<style scoped>\n",
       "    .dataframe tbody tr th:only-of-type {\n",
       "        vertical-align: middle;\n",
       "    }\n",
       "\n",
       "    .dataframe tbody tr th {\n",
       "        vertical-align: top;\n",
       "    }\n",
       "\n",
       "    .dataframe thead th {\n",
       "        text-align: right;\n",
       "    }\n",
       "</style>\n",
       "<table border=\"1\" class=\"dataframe\">\n",
       "  <thead>\n",
       "    <tr style=\"text-align: right;\">\n",
       "      <th></th>\n",
       "      <th>feature_5_1</th>\n",
       "      <th>feature_5_2</th>\n",
       "      <th>feature_5_3</th>\n",
       "      <th>feature_5_4</th>\n",
       "      <th>feature_5_5</th>\n",
       "    </tr>\n",
       "  </thead>\n",
       "  <tbody>\n",
       "    <tr>\n",
       "      <th>0</th>\n",
       "      <td>1</td>\n",
       "      <td>0</td>\n",
       "      <td>0</td>\n",
       "      <td>0</td>\n",
       "      <td>0</td>\n",
       "    </tr>\n",
       "    <tr>\n",
       "      <th>1</th>\n",
       "      <td>0</td>\n",
       "      <td>0</td>\n",
       "      <td>0</td>\n",
       "      <td>1</td>\n",
       "      <td>0</td>\n",
       "    </tr>\n",
       "    <tr>\n",
       "      <th>2</th>\n",
       "      <td>0</td>\n",
       "      <td>0</td>\n",
       "      <td>1</td>\n",
       "      <td>0</td>\n",
       "      <td>0</td>\n",
       "    </tr>\n",
       "    <tr>\n",
       "      <th>3</th>\n",
       "      <td>0</td>\n",
       "      <td>0</td>\n",
       "      <td>0</td>\n",
       "      <td>1</td>\n",
       "      <td>0</td>\n",
       "    </tr>\n",
       "    <tr>\n",
       "      <th>4</th>\n",
       "      <td>0</td>\n",
       "      <td>0</td>\n",
       "      <td>0</td>\n",
       "      <td>1</td>\n",
       "      <td>0</td>\n",
       "    </tr>\n",
       "  </tbody>\n",
       "</table>\n",
       "</div>"
      ],
      "text/plain": [
       "   feature_5_1  feature_5_2  feature_5_3  feature_5_4  feature_5_5\n",
       "0            1            0            0            0            0\n",
       "1            0            0            0            1            0\n",
       "2            0            0            1            0            0\n",
       "3            0            0            0            1            0\n",
       "4            0            0            0            1            0"
      ]
     },
     "execution_count": 30,
     "metadata": {},
     "output_type": "execute_result"
    }
   ],
   "source": [
    "feature_5_processor(feature_5).head()"
   ]
  },
  {
   "cell_type": "code",
   "execution_count": 31,
   "metadata": {},
   "outputs": [
    {
     "data": {
      "text/html": [
       "<div>\n",
       "<style scoped>\n",
       "    .dataframe tbody tr th:only-of-type {\n",
       "        vertical-align: middle;\n",
       "    }\n",
       "\n",
       "    .dataframe tbody tr th {\n",
       "        vertical-align: top;\n",
       "    }\n",
       "\n",
       "    .dataframe thead th {\n",
       "        text-align: right;\n",
       "    }\n",
       "</style>\n",
       "<table border=\"1\" class=\"dataframe\">\n",
       "  <thead>\n",
       "    <tr style=\"text-align: right;\">\n",
       "      <th></th>\n",
       "      <th>attr_7</th>\n",
       "      <th>attr_10</th>\n",
       "      <th>attr_11</th>\n",
       "      <th>attr_14</th>\n",
       "      <th>attr_15</th>\n",
       "      <th>attr_16</th>\n",
       "      <th>attr_17</th>\n",
       "      <th>attr_18</th>\n",
       "      <th>attr_19</th>\n",
       "      <th>attr_20</th>\n",
       "      <th>...</th>\n",
       "      <th>attr_131</th>\n",
       "      <th>attr_151</th>\n",
       "      <th>attr_170</th>\n",
       "      <th>attr_270</th>\n",
       "      <th>attr_272</th>\n",
       "      <th>attr_308</th>\n",
       "      <th>attr_388</th>\n",
       "      <th>attr_396</th>\n",
       "      <th>attr_1134</th>\n",
       "      <th>attr_1492</th>\n",
       "    </tr>\n",
       "  </thead>\n",
       "  <tbody>\n",
       "    <tr>\n",
       "      <th>0</th>\n",
       "      <td>1</td>\n",
       "      <td>1</td>\n",
       "      <td>1</td>\n",
       "      <td>1</td>\n",
       "      <td>1</td>\n",
       "      <td>1</td>\n",
       "      <td>1</td>\n",
       "      <td>1</td>\n",
       "      <td>1</td>\n",
       "      <td>1</td>\n",
       "      <td>...</td>\n",
       "      <td>0</td>\n",
       "      <td>0</td>\n",
       "      <td>0</td>\n",
       "      <td>0</td>\n",
       "      <td>0</td>\n",
       "      <td>0</td>\n",
       "      <td>0</td>\n",
       "      <td>0</td>\n",
       "      <td>0</td>\n",
       "      <td>0</td>\n",
       "    </tr>\n",
       "    <tr>\n",
       "      <th>1</th>\n",
       "      <td>1</td>\n",
       "      <td>1</td>\n",
       "      <td>0</td>\n",
       "      <td>1</td>\n",
       "      <td>1</td>\n",
       "      <td>0</td>\n",
       "      <td>0</td>\n",
       "      <td>0</td>\n",
       "      <td>1</td>\n",
       "      <td>1</td>\n",
       "      <td>...</td>\n",
       "      <td>0</td>\n",
       "      <td>0</td>\n",
       "      <td>0</td>\n",
       "      <td>0</td>\n",
       "      <td>0</td>\n",
       "      <td>0</td>\n",
       "      <td>0</td>\n",
       "      <td>0</td>\n",
       "      <td>0</td>\n",
       "      <td>0</td>\n",
       "    </tr>\n",
       "    <tr>\n",
       "      <th>2</th>\n",
       "      <td>1</td>\n",
       "      <td>0</td>\n",
       "      <td>0</td>\n",
       "      <td>1</td>\n",
       "      <td>1</td>\n",
       "      <td>0</td>\n",
       "      <td>1</td>\n",
       "      <td>1</td>\n",
       "      <td>1</td>\n",
       "      <td>1</td>\n",
       "      <td>...</td>\n",
       "      <td>0</td>\n",
       "      <td>0</td>\n",
       "      <td>0</td>\n",
       "      <td>0</td>\n",
       "      <td>0</td>\n",
       "      <td>0</td>\n",
       "      <td>0</td>\n",
       "      <td>0</td>\n",
       "      <td>0</td>\n",
       "      <td>0</td>\n",
       "    </tr>\n",
       "    <tr>\n",
       "      <th>3</th>\n",
       "      <td>0</td>\n",
       "      <td>0</td>\n",
       "      <td>0</td>\n",
       "      <td>1</td>\n",
       "      <td>1</td>\n",
       "      <td>0</td>\n",
       "      <td>1</td>\n",
       "      <td>1</td>\n",
       "      <td>1</td>\n",
       "      <td>1</td>\n",
       "      <td>...</td>\n",
       "      <td>0</td>\n",
       "      <td>0</td>\n",
       "      <td>0</td>\n",
       "      <td>0</td>\n",
       "      <td>0</td>\n",
       "      <td>0</td>\n",
       "      <td>0</td>\n",
       "      <td>0</td>\n",
       "      <td>0</td>\n",
       "      <td>0</td>\n",
       "    </tr>\n",
       "    <tr>\n",
       "      <th>4</th>\n",
       "      <td>1</td>\n",
       "      <td>1</td>\n",
       "      <td>0</td>\n",
       "      <td>0</td>\n",
       "      <td>0</td>\n",
       "      <td>0</td>\n",
       "      <td>1</td>\n",
       "      <td>1</td>\n",
       "      <td>1</td>\n",
       "      <td>1</td>\n",
       "      <td>...</td>\n",
       "      <td>0</td>\n",
       "      <td>0</td>\n",
       "      <td>0</td>\n",
       "      <td>0</td>\n",
       "      <td>0</td>\n",
       "      <td>0</td>\n",
       "      <td>0</td>\n",
       "      <td>0</td>\n",
       "      <td>0</td>\n",
       "      <td>0</td>\n",
       "    </tr>\n",
       "  </tbody>\n",
       "</table>\n",
       "<p>5 rows × 33 columns</p>\n",
       "</div>"
      ],
      "text/plain": [
       "   attr_7  attr_10  attr_11  attr_14  attr_15  attr_16  attr_17  attr_18  \\\n",
       "0       1        1        1        1        1        1        1        1   \n",
       "1       1        1        0        1        1        0        0        0   \n",
       "2       1        0        0        1        1        0        1        1   \n",
       "3       0        0        0        1        1        0        1        1   \n",
       "4       1        1        0        0        0        0        1        1   \n",
       "\n",
       "   attr_19  attr_20  ...  attr_131  attr_151  attr_170  attr_270  attr_272  \\\n",
       "0        1        1  ...         0         0         0         0         0   \n",
       "1        1        1  ...         0         0         0         0         0   \n",
       "2        1        1  ...         0         0         0         0         0   \n",
       "3        1        1  ...         0         0         0         0         0   \n",
       "4        1        1  ...         0         0         0         0         0   \n",
       "\n",
       "   attr_308  attr_388  attr_396  attr_1134  attr_1492  \n",
       "0         0         0         0          0          0  \n",
       "1         0         0         0          0          0  \n",
       "2         0         0         0          0          0  \n",
       "3         0         0         0          0          0  \n",
       "4         0         0         0          0          0  \n",
       "\n",
       "[5 rows x 33 columns]"
      ]
     },
     "execution_count": 31,
     "metadata": {},
     "output_type": "execute_result"
    }
   ],
   "source": [
    "attributes_processor().head()"
   ]
  },
  {
   "cell_type": "code",
   "execution_count": 32,
   "metadata": {},
   "outputs": [
    {
     "data": {
      "text/html": [
       "<div>\n",
       "<style scoped>\n",
       "    .dataframe tbody tr th:only-of-type {\n",
       "        vertical-align: middle;\n",
       "    }\n",
       "\n",
       "    .dataframe tbody tr th {\n",
       "        vertical-align: top;\n",
       "    }\n",
       "\n",
       "    .dataframe thead th {\n",
       "        text-align: right;\n",
       "    }\n",
       "</style>\n",
       "<table border=\"1\" class=\"dataframe\">\n",
       "  <thead>\n",
       "    <tr style=\"text-align: right;\">\n",
       "      <th></th>\n",
       "      <th>type_movie</th>\n",
       "      <th>type_multipart_movie</th>\n",
       "      <th>type_series</th>\n",
       "    </tr>\n",
       "  </thead>\n",
       "  <tbody>\n",
       "    <tr>\n",
       "      <th>0</th>\n",
       "      <td>1</td>\n",
       "      <td>0</td>\n",
       "      <td>0</td>\n",
       "    </tr>\n",
       "    <tr>\n",
       "      <th>1</th>\n",
       "      <td>1</td>\n",
       "      <td>0</td>\n",
       "      <td>0</td>\n",
       "    </tr>\n",
       "    <tr>\n",
       "      <th>2</th>\n",
       "      <td>1</td>\n",
       "      <td>0</td>\n",
       "      <td>0</td>\n",
       "    </tr>\n",
       "    <tr>\n",
       "      <th>3</th>\n",
       "      <td>1</td>\n",
       "      <td>0</td>\n",
       "      <td>0</td>\n",
       "    </tr>\n",
       "    <tr>\n",
       "      <th>4</th>\n",
       "      <td>1</td>\n",
       "      <td>0</td>\n",
       "      <td>0</td>\n",
       "    </tr>\n",
       "  </tbody>\n",
       "</table>\n",
       "</div>"
      ],
      "text/plain": [
       "   type_movie  type_multipart_movie  type_series\n",
       "0           1                     0            0\n",
       "1           1                     0            0\n",
       "2           1                     0            0\n",
       "3           1                     0            0\n",
       "4           1                     0            0"
      ]
     },
     "execution_count": 32,
     "metadata": {},
     "output_type": "execute_result"
    }
   ],
   "source": [
    "type_processor().head()"
   ]
  },
  {
   "cell_type": "code",
   "execution_count": 33,
   "metadata": {},
   "outputs": [
    {
     "data": {
      "text/html": [
       "<div>\n",
       "<style scoped>\n",
       "    .dataframe tbody tr th:only-of-type {\n",
       "        vertical-align: middle;\n",
       "    }\n",
       "\n",
       "    .dataframe tbody tr th {\n",
       "        vertical-align: top;\n",
       "    }\n",
       "\n",
       "    .dataframe thead th {\n",
       "        text-align: right;\n",
       "    }\n",
       "</style>\n",
       "<table border=\"1\" class=\"dataframe\">\n",
       "  <thead>\n",
       "    <tr style=\"text-align: right;\">\n",
       "      <th></th>\n",
       "      <th>avail_purchase</th>\n",
       "      <th>avail_rent</th>\n",
       "      <th>avail_subscription</th>\n",
       "    </tr>\n",
       "  </thead>\n",
       "  <tbody>\n",
       "    <tr>\n",
       "      <th>0</th>\n",
       "      <td>1</td>\n",
       "      <td>1</td>\n",
       "      <td>1</td>\n",
       "    </tr>\n",
       "    <tr>\n",
       "      <th>1</th>\n",
       "      <td>1</td>\n",
       "      <td>1</td>\n",
       "      <td>1</td>\n",
       "    </tr>\n",
       "    <tr>\n",
       "      <th>2</th>\n",
       "      <td>1</td>\n",
       "      <td>1</td>\n",
       "      <td>1</td>\n",
       "    </tr>\n",
       "    <tr>\n",
       "      <th>3</th>\n",
       "      <td>1</td>\n",
       "      <td>1</td>\n",
       "      <td>1</td>\n",
       "    </tr>\n",
       "    <tr>\n",
       "      <th>4</th>\n",
       "      <td>1</td>\n",
       "      <td>1</td>\n",
       "      <td>0</td>\n",
       "    </tr>\n",
       "  </tbody>\n",
       "</table>\n",
       "</div>"
      ],
      "text/plain": [
       "   avail_purchase  avail_rent  avail_subscription\n",
       "0               1           1                   1\n",
       "1               1           1                   1\n",
       "2               1           1                   1\n",
       "3               1           1                   1\n",
       "4               1           1                   0"
      ]
     },
     "execution_count": 33,
     "metadata": {},
     "output_type": "execute_result"
    }
   ],
   "source": [
    "availability_processor().head()"
   ]
  },
  {
   "cell_type": "code",
   "execution_count": 34,
   "metadata": {},
   "outputs": [
    {
     "data": {
      "text/html": [
       "<div>\n",
       "<style scoped>\n",
       "    .dataframe tbody tr th:only-of-type {\n",
       "        vertical-align: middle;\n",
       "    }\n",
       "\n",
       "    .dataframe tbody tr th {\n",
       "        vertical-align: top;\n",
       "    }\n",
       "\n",
       "    .dataframe thead th {\n",
       "        text-align: right;\n",
       "    }\n",
       "</style>\n",
       "<table border=\"1\" class=\"dataframe\">\n",
       "  <thead>\n",
       "    <tr style=\"text-align: right;\">\n",
       "      <th></th>\n",
       "      <th>element_uid</th>\n",
       "      <th>duration</th>\n",
       "      <th>feature_1</th>\n",
       "      <th>feature_2</th>\n",
       "      <th>feature_3</th>\n",
       "      <th>feature_4</th>\n",
       "    </tr>\n",
       "  </thead>\n",
       "  <tbody>\n",
       "    <tr>\n",
       "      <th>0</th>\n",
       "      <td>1983</td>\n",
       "      <td>1.760988</td>\n",
       "      <td>0.037828</td>\n",
       "      <td>0.753610</td>\n",
       "      <td>0.78</td>\n",
       "      <td>0.944740</td>\n",
       "    </tr>\n",
       "    <tr>\n",
       "      <th>1</th>\n",
       "      <td>3783</td>\n",
       "      <td>0.747589</td>\n",
       "      <td>0.811865</td>\n",
       "      <td>0.766254</td>\n",
       "      <td>0.82</td>\n",
       "      <td>0.991841</td>\n",
       "    </tr>\n",
       "    <tr>\n",
       "      <th>2</th>\n",
       "      <td>5208</td>\n",
       "      <td>0.071990</td>\n",
       "      <td>0.302935</td>\n",
       "      <td>0.765425</td>\n",
       "      <td>0.54</td>\n",
       "      <td>0.975163</td>\n",
       "    </tr>\n",
       "    <tr>\n",
       "      <th>3</th>\n",
       "      <td>9744</td>\n",
       "      <td>1.085389</td>\n",
       "      <td>0.496496</td>\n",
       "      <td>0.757874</td>\n",
       "      <td>0.52</td>\n",
       "      <td>0.979379</td>\n",
       "    </tr>\n",
       "    <tr>\n",
       "      <th>4</th>\n",
       "      <td>1912</td>\n",
       "      <td>0.747589</td>\n",
       "      <td>0.210307</td>\n",
       "      <td>0.759566</td>\n",
       "      <td>0.14</td>\n",
       "      <td>0.921965</td>\n",
       "    </tr>\n",
       "  </tbody>\n",
       "</table>\n",
       "</div>"
      ],
      "text/plain": [
       "   element_uid  duration  feature_1  feature_2  feature_3  feature_4\n",
       "0         1983  1.760988   0.037828   0.753610       0.78   0.944740\n",
       "1         3783  0.747589   0.811865   0.766254       0.82   0.991841\n",
       "2         5208  0.071990   0.302935   0.765425       0.54   0.975163\n",
       "3         9744  1.085389   0.496496   0.757874       0.52   0.979379\n",
       "4         1912  0.747589   0.210307   0.759566       0.14   0.921965"
      ]
     },
     "execution_count": 34,
     "metadata": {},
     "output_type": "execute_result"
    }
   ],
   "source": [
    "rest = pd.DataFrame({\n",
    "    'element_uid': list(catalogue.keys()),\n",
    "    'duration': zscore(durations),\n",
    "    'feature_1': minmax(feature_1),\n",
    "    'feature_2': feature_2,\n",
    "    'feature_3': minmax(feature_3),\n",
    "    'feature_4': minmax(feature_4),\n",
    "})\n",
    "rest.head()"
   ]
  },
  {
   "cell_type": "code",
   "execution_count": 35,
   "metadata": {},
   "outputs": [
    {
     "data": {
      "text/html": [
       "<div>\n",
       "<style scoped>\n",
       "    .dataframe tbody tr th:only-of-type {\n",
       "        vertical-align: middle;\n",
       "    }\n",
       "\n",
       "    .dataframe tbody tr th {\n",
       "        vertical-align: top;\n",
       "    }\n",
       "\n",
       "    .dataframe thead th {\n",
       "        text-align: right;\n",
       "    }\n",
       "</style>\n",
       "<table border=\"1\" class=\"dataframe\">\n",
       "  <thead>\n",
       "    <tr style=\"text-align: right;\">\n",
       "      <th></th>\n",
       "      <th>element_uid</th>\n",
       "      <th>duration</th>\n",
       "      <th>feature_1</th>\n",
       "      <th>feature_2</th>\n",
       "      <th>feature_3</th>\n",
       "      <th>feature_4</th>\n",
       "      <th>feature_5_1</th>\n",
       "      <th>feature_5_2</th>\n",
       "      <th>feature_5_3</th>\n",
       "      <th>feature_5_4</th>\n",
       "      <th>...</th>\n",
       "      <th>attr_388</th>\n",
       "      <th>attr_396</th>\n",
       "      <th>attr_1134</th>\n",
       "      <th>attr_1492</th>\n",
       "      <th>type_movie</th>\n",
       "      <th>type_multipart_movie</th>\n",
       "      <th>type_series</th>\n",
       "      <th>avail_purchase</th>\n",
       "      <th>avail_rent</th>\n",
       "      <th>avail_subscription</th>\n",
       "    </tr>\n",
       "  </thead>\n",
       "  <tbody>\n",
       "    <tr>\n",
       "      <th>0</th>\n",
       "      <td>1983</td>\n",
       "      <td>1.760988</td>\n",
       "      <td>0.037828</td>\n",
       "      <td>0.753610</td>\n",
       "      <td>0.78</td>\n",
       "      <td>0.944740</td>\n",
       "      <td>1</td>\n",
       "      <td>0</td>\n",
       "      <td>0</td>\n",
       "      <td>0</td>\n",
       "      <td>...</td>\n",
       "      <td>0</td>\n",
       "      <td>0</td>\n",
       "      <td>0</td>\n",
       "      <td>0</td>\n",
       "      <td>1</td>\n",
       "      <td>0</td>\n",
       "      <td>0</td>\n",
       "      <td>1</td>\n",
       "      <td>1</td>\n",
       "      <td>1</td>\n",
       "    </tr>\n",
       "    <tr>\n",
       "      <th>1</th>\n",
       "      <td>3783</td>\n",
       "      <td>0.747589</td>\n",
       "      <td>0.811865</td>\n",
       "      <td>0.766254</td>\n",
       "      <td>0.82</td>\n",
       "      <td>0.991841</td>\n",
       "      <td>0</td>\n",
       "      <td>0</td>\n",
       "      <td>0</td>\n",
       "      <td>1</td>\n",
       "      <td>...</td>\n",
       "      <td>0</td>\n",
       "      <td>0</td>\n",
       "      <td>0</td>\n",
       "      <td>0</td>\n",
       "      <td>1</td>\n",
       "      <td>0</td>\n",
       "      <td>0</td>\n",
       "      <td>1</td>\n",
       "      <td>1</td>\n",
       "      <td>1</td>\n",
       "    </tr>\n",
       "    <tr>\n",
       "      <th>2</th>\n",
       "      <td>5208</td>\n",
       "      <td>0.071990</td>\n",
       "      <td>0.302935</td>\n",
       "      <td>0.765425</td>\n",
       "      <td>0.54</td>\n",
       "      <td>0.975163</td>\n",
       "      <td>0</td>\n",
       "      <td>0</td>\n",
       "      <td>1</td>\n",
       "      <td>0</td>\n",
       "      <td>...</td>\n",
       "      <td>0</td>\n",
       "      <td>0</td>\n",
       "      <td>0</td>\n",
       "      <td>0</td>\n",
       "      <td>1</td>\n",
       "      <td>0</td>\n",
       "      <td>0</td>\n",
       "      <td>1</td>\n",
       "      <td>1</td>\n",
       "      <td>1</td>\n",
       "    </tr>\n",
       "    <tr>\n",
       "      <th>3</th>\n",
       "      <td>9744</td>\n",
       "      <td>1.085389</td>\n",
       "      <td>0.496496</td>\n",
       "      <td>0.757874</td>\n",
       "      <td>0.52</td>\n",
       "      <td>0.979379</td>\n",
       "      <td>0</td>\n",
       "      <td>0</td>\n",
       "      <td>0</td>\n",
       "      <td>1</td>\n",
       "      <td>...</td>\n",
       "      <td>0</td>\n",
       "      <td>0</td>\n",
       "      <td>0</td>\n",
       "      <td>0</td>\n",
       "      <td>1</td>\n",
       "      <td>0</td>\n",
       "      <td>0</td>\n",
       "      <td>1</td>\n",
       "      <td>1</td>\n",
       "      <td>1</td>\n",
       "    </tr>\n",
       "    <tr>\n",
       "      <th>4</th>\n",
       "      <td>1912</td>\n",
       "      <td>0.747589</td>\n",
       "      <td>0.210307</td>\n",
       "      <td>0.759566</td>\n",
       "      <td>0.14</td>\n",
       "      <td>0.921965</td>\n",
       "      <td>0</td>\n",
       "      <td>0</td>\n",
       "      <td>0</td>\n",
       "      <td>1</td>\n",
       "      <td>...</td>\n",
       "      <td>0</td>\n",
       "      <td>0</td>\n",
       "      <td>0</td>\n",
       "      <td>0</td>\n",
       "      <td>1</td>\n",
       "      <td>0</td>\n",
       "      <td>0</td>\n",
       "      <td>1</td>\n",
       "      <td>1</td>\n",
       "      <td>0</td>\n",
       "    </tr>\n",
       "  </tbody>\n",
       "</table>\n",
       "<p>5 rows × 50 columns</p>\n",
       "</div>"
      ],
      "text/plain": [
       "   element_uid  duration  feature_1  feature_2  feature_3  feature_4  \\\n",
       "0         1983  1.760988   0.037828   0.753610       0.78   0.944740   \n",
       "1         3783  0.747589   0.811865   0.766254       0.82   0.991841   \n",
       "2         5208  0.071990   0.302935   0.765425       0.54   0.975163   \n",
       "3         9744  1.085389   0.496496   0.757874       0.52   0.979379   \n",
       "4         1912  0.747589   0.210307   0.759566       0.14   0.921965   \n",
       "\n",
       "   feature_5_1  feature_5_2  feature_5_3  feature_5_4  ...  attr_388  \\\n",
       "0            1            0            0            0  ...         0   \n",
       "1            0            0            0            1  ...         0   \n",
       "2            0            0            1            0  ...         0   \n",
       "3            0            0            0            1  ...         0   \n",
       "4            0            0            0            1  ...         0   \n",
       "\n",
       "   attr_396  attr_1134  attr_1492  type_movie  type_multipart_movie  \\\n",
       "0         0          0          0           1                     0   \n",
       "1         0          0          0           1                     0   \n",
       "2         0          0          0           1                     0   \n",
       "3         0          0          0           1                     0   \n",
       "4         0          0          0           1                     0   \n",
       "\n",
       "   type_series  avail_purchase  avail_rent  avail_subscription  \n",
       "0            0               1           1                   1  \n",
       "1            0               1           1                   1  \n",
       "2            0               1           1                   1  \n",
       "3            0               1           1                   1  \n",
       "4            0               1           1                   0  \n",
       "\n",
       "[5 rows x 50 columns]"
      ]
     },
     "execution_count": 35,
     "metadata": {},
     "output_type": "execute_result"
    }
   ],
   "source": [
    "catalogue_df = pd.concat([\n",
    "    rest,\n",
    "    feature_5_processor(feature_5),\n",
    "    attributes_processor(),\n",
    "    type_processor(),\n",
    "    availability_processor(),\n",
    "], axis=1)\n",
    "catalogue_df.head()"
   ]
  },
  {
   "cell_type": "code",
   "execution_count": 36,
   "metadata": {},
   "outputs": [],
   "source": [
    "folder = os.path.join(DATA_PATH, 'hw4')\n",
    "if not os.path.exists(folder):\n",
    "    os.makedirs(folder)\n",
    "\n",
    "path = os.path.join(folder, 'catalogue.csv')\n",
    "catalogue_df.to_csv(path, index=False)"
   ]
  },
  {
   "cell_type": "markdown",
   "metadata": {},
   "source": [
    "### EDA `transactions.csv`"
   ]
  },
  {
   "cell_type": "code",
   "execution_count": 11,
   "metadata": {},
   "outputs": [
    {
     "name": "stdout",
     "output_type": "stream",
     "text": [
      "(679136, 7)\n"
     ]
    },
    {
     "data": {
      "text/html": [
       "<div>\n",
       "<style scoped>\n",
       "    .dataframe tbody tr th:only-of-type {\n",
       "        vertical-align: middle;\n",
       "    }\n",
       "\n",
       "    .dataframe tbody tr th {\n",
       "        vertical-align: top;\n",
       "    }\n",
       "\n",
       "    .dataframe thead th {\n",
       "        text-align: right;\n",
       "    }\n",
       "</style>\n",
       "<table border=\"1\" class=\"dataframe\">\n",
       "  <thead>\n",
       "    <tr style=\"text-align: right;\">\n",
       "      <th></th>\n",
       "      <th>element_uid</th>\n",
       "      <th>user_uid</th>\n",
       "      <th>consumption_mode</th>\n",
       "      <th>ts</th>\n",
       "      <th>watched_time</th>\n",
       "      <th>device_type</th>\n",
       "      <th>device_manufacturer</th>\n",
       "    </tr>\n",
       "  </thead>\n",
       "  <tbody>\n",
       "    <tr>\n",
       "      <th>4</th>\n",
       "      <td>5543</td>\n",
       "      <td>340623</td>\n",
       "      <td>P</td>\n",
       "      <td>4.430518e+07</td>\n",
       "      <td>6282</td>\n",
       "      <td>0</td>\n",
       "      <td>50</td>\n",
       "    </tr>\n",
       "    <tr>\n",
       "      <th>35</th>\n",
       "      <td>3417</td>\n",
       "      <td>412761</td>\n",
       "      <td>S</td>\n",
       "      <td>4.430517e+07</td>\n",
       "      <td>5929</td>\n",
       "      <td>0</td>\n",
       "      <td>50</td>\n",
       "    </tr>\n",
       "    <tr>\n",
       "      <th>65</th>\n",
       "      <td>7099</td>\n",
       "      <td>541307</td>\n",
       "      <td>S</td>\n",
       "      <td>4.430515e+07</td>\n",
       "      <td>5385</td>\n",
       "      <td>0</td>\n",
       "      <td>11</td>\n",
       "    </tr>\n",
       "    <tr>\n",
       "      <th>68</th>\n",
       "      <td>7347</td>\n",
       "      <td>182294</td>\n",
       "      <td>S</td>\n",
       "      <td>4.430515e+07</td>\n",
       "      <td>10687</td>\n",
       "      <td>0</td>\n",
       "      <td>50</td>\n",
       "    </tr>\n",
       "    <tr>\n",
       "      <th>115</th>\n",
       "      <td>4141</td>\n",
       "      <td>586236</td>\n",
       "      <td>S</td>\n",
       "      <td>4.430514e+07</td>\n",
       "      <td>5300</td>\n",
       "      <td>0</td>\n",
       "      <td>50</td>\n",
       "    </tr>\n",
       "  </tbody>\n",
       "</table>\n",
       "</div>"
      ],
      "text/plain": [
       "     element_uid  user_uid consumption_mode            ts  watched_time  \\\n",
       "4           5543    340623                P  4.430518e+07          6282   \n",
       "35          3417    412761                S  4.430517e+07          5929   \n",
       "65          7099    541307                S  4.430515e+07          5385   \n",
       "68          7347    182294                S  4.430515e+07         10687   \n",
       "115         4141    586236                S  4.430514e+07          5300   \n",
       "\n",
       "     device_type  device_manufacturer  \n",
       "4              0                   50  \n",
       "35             0                   50  \n",
       "65             0                   11  \n",
       "68             0                   50  \n",
       "115            0                   50  "
      ]
     },
     "execution_count": 11,
     "metadata": {},
     "output_type": "execute_result"
    }
   ],
   "source": [
    "print(transactions.shape)\n",
    "transactions.head()"
   ]
  },
  {
   "cell_type": "code",
   "execution_count": 12,
   "metadata": {},
   "outputs": [
    {
     "data": {
      "text/html": [
       "<div>\n",
       "<style scoped>\n",
       "    .dataframe tbody tr th:only-of-type {\n",
       "        vertical-align: middle;\n",
       "    }\n",
       "\n",
       "    .dataframe tbody tr th {\n",
       "        vertical-align: top;\n",
       "    }\n",
       "\n",
       "    .dataframe thead th {\n",
       "        text-align: right;\n",
       "    }\n",
       "</style>\n",
       "<table border=\"1\" class=\"dataframe\">\n",
       "  <thead>\n",
       "    <tr style=\"text-align: right;\">\n",
       "      <th></th>\n",
       "      <th>element_uid</th>\n",
       "      <th>user_uid</th>\n",
       "      <th>ts</th>\n",
       "      <th>watched_time</th>\n",
       "      <th>device_type</th>\n",
       "      <th>device_manufacturer</th>\n",
       "    </tr>\n",
       "  </thead>\n",
       "  <tbody>\n",
       "    <tr>\n",
       "      <th>count</th>\n",
       "      <td>679136.000000</td>\n",
       "      <td>679136.000000</td>\n",
       "      <td>6.791360e+05</td>\n",
       "      <td>6.791360e+05</td>\n",
       "      <td>679136.000000</td>\n",
       "      <td>679136.000000</td>\n",
       "    </tr>\n",
       "    <tr>\n",
       "      <th>mean</th>\n",
       "      <td>4927.093322</td>\n",
       "      <td>297591.672463</td>\n",
       "      <td>4.302545e+07</td>\n",
       "      <td>8.330301e+03</td>\n",
       "      <td>0.508216</td>\n",
       "      <td>53.419916</td>\n",
       "    </tr>\n",
       "    <tr>\n",
       "      <th>std</th>\n",
       "      <td>2951.383148</td>\n",
       "      <td>170223.315866</td>\n",
       "      <td>7.266019e+05</td>\n",
       "      <td>2.495086e+04</td>\n",
       "      <td>1.395887</td>\n",
       "      <td>18.165770</td>\n",
       "    </tr>\n",
       "    <tr>\n",
       "      <th>min</th>\n",
       "      <td>1.000000</td>\n",
       "      <td>17.000000</td>\n",
       "      <td>4.173063e+07</td>\n",
       "      <td>0.000000e+00</td>\n",
       "      <td>0.000000</td>\n",
       "      <td>0.000000</td>\n",
       "    </tr>\n",
       "    <tr>\n",
       "      <th>25%</th>\n",
       "      <td>2360.000000</td>\n",
       "      <td>148811.000000</td>\n",
       "      <td>4.238739e+07</td>\n",
       "      <td>2.374000e+03</td>\n",
       "      <td>0.000000</td>\n",
       "      <td>50.000000</td>\n",
       "    </tr>\n",
       "    <tr>\n",
       "      <th>50%</th>\n",
       "      <td>4786.000000</td>\n",
       "      <td>301133.000000</td>\n",
       "      <td>4.305859e+07</td>\n",
       "      <td>5.491000e+03</td>\n",
       "      <td>0.000000</td>\n",
       "      <td>50.000000</td>\n",
       "    </tr>\n",
       "    <tr>\n",
       "      <th>75%</th>\n",
       "      <td>7449.000000</td>\n",
       "      <td>445561.000000</td>\n",
       "      <td>4.364350e+07</td>\n",
       "      <td>7.163000e+03</td>\n",
       "      <td>0.000000</td>\n",
       "      <td>50.000000</td>\n",
       "    </tr>\n",
       "    <tr>\n",
       "      <th>max</th>\n",
       "      <td>10199.000000</td>\n",
       "      <td>593359.000000</td>\n",
       "      <td>4.430518e+07</td>\n",
       "      <td>4.079646e+06</td>\n",
       "      <td>6.000000</td>\n",
       "      <td>99.000000</td>\n",
       "    </tr>\n",
       "  </tbody>\n",
       "</table>\n",
       "</div>"
      ],
      "text/plain": [
       "         element_uid       user_uid            ts  watched_time  \\\n",
       "count  679136.000000  679136.000000  6.791360e+05  6.791360e+05   \n",
       "mean     4927.093322  297591.672463  4.302545e+07  8.330301e+03   \n",
       "std      2951.383148  170223.315866  7.266019e+05  2.495086e+04   \n",
       "min         1.000000      17.000000  4.173063e+07  0.000000e+00   \n",
       "25%      2360.000000  148811.000000  4.238739e+07  2.374000e+03   \n",
       "50%      4786.000000  301133.000000  4.305859e+07  5.491000e+03   \n",
       "75%      7449.000000  445561.000000  4.364350e+07  7.163000e+03   \n",
       "max     10199.000000  593359.000000  4.430518e+07  4.079646e+06   \n",
       "\n",
       "         device_type  device_manufacturer  \n",
       "count  679136.000000        679136.000000  \n",
       "mean        0.508216            53.419916  \n",
       "std         1.395887            18.165770  \n",
       "min         0.000000             0.000000  \n",
       "25%         0.000000            50.000000  \n",
       "50%         0.000000            50.000000  \n",
       "75%         0.000000            50.000000  \n",
       "max         6.000000            99.000000  "
      ]
     },
     "execution_count": 12,
     "metadata": {},
     "output_type": "execute_result"
    }
   ],
   "source": [
    "transactions.describe()"
   ]
  },
  {
   "cell_type": "code",
   "execution_count": 13,
   "metadata": {},
   "outputs": [
    {
     "data": {
      "text/plain": [
       "element_uid            0\n",
       "user_uid               0\n",
       "consumption_mode       0\n",
       "ts                     0\n",
       "watched_time           0\n",
       "device_type            0\n",
       "device_manufacturer    0\n",
       "dtype: int64"
      ]
     },
     "execution_count": 13,
     "metadata": {},
     "output_type": "execute_result"
    }
   ],
   "source": [
    "transactions.isna().sum(axis=0)"
   ]
  },
  {
   "cell_type": "markdown",
   "metadata": {},
   "source": [
    "- `ts` -> минмакс\n",
    "- `watched_time` -> z-score\n",
    "- `device_type` -> one-hot\n",
    "- `device_manufacturer` -> индикатор топ-5 популярных значений\n",
    "- `consumption_mode` -> one-hot"
   ]
  },
  {
   "cell_type": "markdown",
   "metadata": {},
   "source": [
    "#### `device_type`"
   ]
  },
  {
   "cell_type": "markdown",
   "metadata": {},
   "source": [
    "ванхот однозначно"
   ]
  },
  {
   "cell_type": "code",
   "execution_count": 14,
   "metadata": {},
   "outputs": [
    {
     "data": {
      "text/plain": [
       "array([0, 4, 5, 1, 3, 6], dtype=uint8)"
      ]
     },
     "execution_count": 14,
     "metadata": {},
     "output_type": "execute_result"
    }
   ],
   "source": [
    "transactions.device_type.unique()"
   ]
  },
  {
   "cell_type": "markdown",
   "metadata": {},
   "source": [
    "#### `device_manufacturer`"
   ]
  },
  {
   "cell_type": "markdown",
   "metadata": {},
   "source": [
    "Возьму индикаторы топа пяти"
   ]
  },
  {
   "cell_type": "code",
   "execution_count": 15,
   "metadata": {},
   "outputs": [
    {
     "data": {
      "text/plain": [
       "array([50, 11, 99, 76, 90,  0, 85, 31, 67, 42, 94, 82, 59, 20, 44, 95, 52,\n",
       "       97, 32, 57, 78, 43, 17, 16, 12, 87, 28,  7, 79, 55, 38, 37, 73,  4,\n",
       "       24, 63, 46, 62, 41, 21, 98, 58, 18, 65, 64, 66, 40, 15, 89,  5,  2,\n",
       "       51, 53, 26, 47, 23, 56, 80, 77, 86,  1], dtype=uint8)"
      ]
     },
     "execution_count": 15,
     "metadata": {},
     "output_type": "execute_result"
    }
   ],
   "source": [
    "transactions.device_manufacturer.unique()"
   ]
  },
  {
   "cell_type": "code",
   "execution_count": 16,
   "metadata": {},
   "outputs": [
    {
     "data": {
      "text/plain": [
       "device_manufacturer\n",
       "50    0.786694\n",
       "90    0.065189\n",
       "11    0.058038\n",
       "99    0.049101\n",
       "76    0.012753\n",
       "        ...   \n",
       "65    0.000001\n",
       "53    0.000001\n",
       "56    0.000001\n",
       "86    0.000001\n",
       "1     0.000001\n",
       "Name: proportion, Length: 61, dtype: float64"
      ]
     },
     "execution_count": 16,
     "metadata": {},
     "output_type": "execute_result"
    }
   ],
   "source": [
    "sorted_tr = transactions.device_manufacturer.value_counts(normalize=True, sort=True, ascending=False)\n",
    "sorted_tr"
   ]
  },
  {
   "cell_type": "code",
   "execution_count": 17,
   "metadata": {},
   "outputs": [
    {
     "data": {
      "text/plain": [
       "[11, 50, 76, 90, 99]"
      ]
     },
     "execution_count": 17,
     "metadata": {},
     "output_type": "execute_result"
    }
   ],
   "source": [
    "selected_manufacturers = sorted(sorted_tr[:5].index.tolist())\n",
    "selected_manufacturers"
   ]
  },
  {
   "cell_type": "markdown",
   "metadata": {},
   "source": [
    "### Preprocessing & Feature Crafting for `transactions.csv`"
   ]
  },
  {
   "cell_type": "code",
   "execution_count": 30,
   "metadata": {},
   "outputs": [
    {
     "name": "stdout",
     "output_type": "stream",
     "text": [
      "(679136, 3)\n"
     ]
    },
    {
     "data": {
      "text/html": [
       "<div>\n",
       "<style scoped>\n",
       "    .dataframe tbody tr th:only-of-type {\n",
       "        vertical-align: middle;\n",
       "    }\n",
       "\n",
       "    .dataframe tbody tr th {\n",
       "        vertical-align: top;\n",
       "    }\n",
       "\n",
       "    .dataframe thead th {\n",
       "        text-align: right;\n",
       "    }\n",
       "</style>\n",
       "<table border=\"1\" class=\"dataframe\">\n",
       "  <thead>\n",
       "    <tr style=\"text-align: right;\">\n",
       "      <th></th>\n",
       "      <th>cons_P</th>\n",
       "      <th>cons_S</th>\n",
       "      <th>cons_R</th>\n",
       "    </tr>\n",
       "  </thead>\n",
       "  <tbody>\n",
       "    <tr>\n",
       "      <th>4</th>\n",
       "      <td>1</td>\n",
       "      <td>0</td>\n",
       "      <td>0</td>\n",
       "    </tr>\n",
       "    <tr>\n",
       "      <th>35</th>\n",
       "      <td>0</td>\n",
       "      <td>1</td>\n",
       "      <td>0</td>\n",
       "    </tr>\n",
       "    <tr>\n",
       "      <th>65</th>\n",
       "      <td>0</td>\n",
       "      <td>1</td>\n",
       "      <td>0</td>\n",
       "    </tr>\n",
       "    <tr>\n",
       "      <th>68</th>\n",
       "      <td>0</td>\n",
       "      <td>1</td>\n",
       "      <td>0</td>\n",
       "    </tr>\n",
       "    <tr>\n",
       "      <th>115</th>\n",
       "      <td>0</td>\n",
       "      <td>1</td>\n",
       "      <td>0</td>\n",
       "    </tr>\n",
       "  </tbody>\n",
       "</table>\n",
       "</div>"
      ],
      "text/plain": [
       "     cons_P  cons_S  cons_R\n",
       "4         1       0       0\n",
       "35        0       1       0\n",
       "65        0       1       0\n",
       "68        0       1       0\n",
       "115       0       1       0"
      ]
     },
     "execution_count": 30,
     "metadata": {},
     "output_type": "execute_result"
    }
   ],
   "source": [
    "cons_modes = ['P', 'S', 'R']\n",
    "consumption_mode_df = pd.DataFrame(\n",
    "    data=np.array([[int(t == x) for t in cons_modes] for x in transactions.consumption_mode]),\n",
    "    columns=[f'cons_{x}' for x in cons_modes],\n",
    "    index=transactions.index\n",
    ")\n",
    "\n",
    "print(consumption_mode_df.shape)\n",
    "consumption_mode_df.head()"
   ]
  },
  {
   "cell_type": "code",
   "execution_count": 31,
   "metadata": {},
   "outputs": [
    {
     "name": "stdout",
     "output_type": "stream",
     "text": [
      "(679136, 4)\n"
     ]
    },
    {
     "data": {
      "text/html": [
       "<div>\n",
       "<style scoped>\n",
       "    .dataframe tbody tr th:only-of-type {\n",
       "        vertical-align: middle;\n",
       "    }\n",
       "\n",
       "    .dataframe tbody tr th {\n",
       "        vertical-align: top;\n",
       "    }\n",
       "\n",
       "    .dataframe thead th {\n",
       "        text-align: right;\n",
       "    }\n",
       "</style>\n",
       "<table border=\"1\" class=\"dataframe\">\n",
       "  <thead>\n",
       "    <tr style=\"text-align: right;\">\n",
       "      <th></th>\n",
       "      <th>device_0</th>\n",
       "      <th>device_1</th>\n",
       "      <th>device_3</th>\n",
       "      <th>device_5</th>\n",
       "    </tr>\n",
       "  </thead>\n",
       "  <tbody>\n",
       "    <tr>\n",
       "      <th>4</th>\n",
       "      <td>1</td>\n",
       "      <td>0</td>\n",
       "      <td>0</td>\n",
       "      <td>0</td>\n",
       "    </tr>\n",
       "    <tr>\n",
       "      <th>35</th>\n",
       "      <td>1</td>\n",
       "      <td>0</td>\n",
       "      <td>0</td>\n",
       "      <td>0</td>\n",
       "    </tr>\n",
       "    <tr>\n",
       "      <th>65</th>\n",
       "      <td>1</td>\n",
       "      <td>0</td>\n",
       "      <td>0</td>\n",
       "      <td>0</td>\n",
       "    </tr>\n",
       "    <tr>\n",
       "      <th>68</th>\n",
       "      <td>1</td>\n",
       "      <td>0</td>\n",
       "      <td>0</td>\n",
       "      <td>0</td>\n",
       "    </tr>\n",
       "    <tr>\n",
       "      <th>115</th>\n",
       "      <td>1</td>\n",
       "      <td>0</td>\n",
       "      <td>0</td>\n",
       "      <td>0</td>\n",
       "    </tr>\n",
       "  </tbody>\n",
       "</table>\n",
       "</div>"
      ],
      "text/plain": [
       "     device_0  device_1  device_3  device_5\n",
       "4           1         0         0         0\n",
       "35          1         0         0         0\n",
       "65          1         0         0         0\n",
       "68          1         0         0         0\n",
       "115         1         0         0         0"
      ]
     },
     "execution_count": 31,
     "metadata": {},
     "output_type": "execute_result"
    }
   ],
   "source": [
    "device_types = [0,1,3,5]\n",
    "device_type_df = pd.DataFrame(\n",
    "    data=np.array([[int(t == x) for t in device_types] for x in transactions.device_type]),\n",
    "    columns=[f'device_{x}' for x in device_types],\n",
    "    index=transactions.index\n",
    ")\n",
    "print(device_type_df.shape)\n",
    "device_type_df.head()"
   ]
  },
  {
   "cell_type": "code",
   "execution_count": 32,
   "metadata": {},
   "outputs": [
    {
     "name": "stdout",
     "output_type": "stream",
     "text": [
      "(679136, 5)\n"
     ]
    },
    {
     "data": {
      "text/html": [
       "<div>\n",
       "<style scoped>\n",
       "    .dataframe tbody tr th:only-of-type {\n",
       "        vertical-align: middle;\n",
       "    }\n",
       "\n",
       "    .dataframe tbody tr th {\n",
       "        vertical-align: top;\n",
       "    }\n",
       "\n",
       "    .dataframe thead th {\n",
       "        text-align: right;\n",
       "    }\n",
       "</style>\n",
       "<table border=\"1\" class=\"dataframe\">\n",
       "  <thead>\n",
       "    <tr style=\"text-align: right;\">\n",
       "      <th></th>\n",
       "      <th>manuf_11</th>\n",
       "      <th>manuf_50</th>\n",
       "      <th>manuf_76</th>\n",
       "      <th>manuf_90</th>\n",
       "      <th>manuf_99</th>\n",
       "    </tr>\n",
       "  </thead>\n",
       "  <tbody>\n",
       "    <tr>\n",
       "      <th>4</th>\n",
       "      <td>0</td>\n",
       "      <td>1</td>\n",
       "      <td>0</td>\n",
       "      <td>0</td>\n",
       "      <td>0</td>\n",
       "    </tr>\n",
       "    <tr>\n",
       "      <th>35</th>\n",
       "      <td>0</td>\n",
       "      <td>1</td>\n",
       "      <td>0</td>\n",
       "      <td>0</td>\n",
       "      <td>0</td>\n",
       "    </tr>\n",
       "    <tr>\n",
       "      <th>65</th>\n",
       "      <td>1</td>\n",
       "      <td>0</td>\n",
       "      <td>0</td>\n",
       "      <td>0</td>\n",
       "      <td>0</td>\n",
       "    </tr>\n",
       "    <tr>\n",
       "      <th>68</th>\n",
       "      <td>0</td>\n",
       "      <td>1</td>\n",
       "      <td>0</td>\n",
       "      <td>0</td>\n",
       "      <td>0</td>\n",
       "    </tr>\n",
       "    <tr>\n",
       "      <th>115</th>\n",
       "      <td>0</td>\n",
       "      <td>1</td>\n",
       "      <td>0</td>\n",
       "      <td>0</td>\n",
       "      <td>0</td>\n",
       "    </tr>\n",
       "  </tbody>\n",
       "</table>\n",
       "</div>"
      ],
      "text/plain": [
       "     manuf_11  manuf_50  manuf_76  manuf_90  manuf_99\n",
       "4           0         1         0         0         0\n",
       "35          0         1         0         0         0\n",
       "65          1         0         0         0         0\n",
       "68          0         1         0         0         0\n",
       "115         0         1         0         0         0"
      ]
     },
     "execution_count": 32,
     "metadata": {},
     "output_type": "execute_result"
    }
   ],
   "source": [
    "manufacturers_df = pd.DataFrame(\n",
    "    data=np.array([[int(t == x) for t in selected_manufacturers] for x in transactions.device_manufacturer]),\n",
    "    columns=[f'manuf_{x}' for x in selected_manufacturers],\n",
    "    index=transactions.index\n",
    ")\n",
    "print(manufacturers_df.shape)\n",
    "manufacturers_df.head()"
   ]
  },
  {
   "cell_type": "code",
   "execution_count": 34,
   "metadata": {},
   "outputs": [
    {
     "name": "stdout",
     "output_type": "stream",
     "text": [
      "(679136, 19)\n"
     ]
    },
    {
     "data": {
      "text/html": [
       "<div>\n",
       "<style scoped>\n",
       "    .dataframe tbody tr th:only-of-type {\n",
       "        vertical-align: middle;\n",
       "    }\n",
       "\n",
       "    .dataframe tbody tr th {\n",
       "        vertical-align: top;\n",
       "    }\n",
       "\n",
       "    .dataframe thead th {\n",
       "        text-align: right;\n",
       "    }\n",
       "</style>\n",
       "<table border=\"1\" class=\"dataframe\">\n",
       "  <thead>\n",
       "    <tr style=\"text-align: right;\">\n",
       "      <th></th>\n",
       "      <th>element_uid</th>\n",
       "      <th>user_uid</th>\n",
       "      <th>consumption_mode</th>\n",
       "      <th>ts</th>\n",
       "      <th>watched_time</th>\n",
       "      <th>device_type</th>\n",
       "      <th>device_manufacturer</th>\n",
       "      <th>cons_P</th>\n",
       "      <th>cons_S</th>\n",
       "      <th>cons_R</th>\n",
       "      <th>device_0</th>\n",
       "      <th>device_1</th>\n",
       "      <th>device_3</th>\n",
       "      <th>device_5</th>\n",
       "      <th>manuf_11</th>\n",
       "      <th>manuf_50</th>\n",
       "      <th>manuf_76</th>\n",
       "      <th>manuf_90</th>\n",
       "      <th>manuf_99</th>\n",
       "    </tr>\n",
       "  </thead>\n",
       "  <tbody>\n",
       "    <tr>\n",
       "      <th>4</th>\n",
       "      <td>5543</td>\n",
       "      <td>340623</td>\n",
       "      <td>P</td>\n",
       "      <td>1.000000</td>\n",
       "      <td>-0.082093</td>\n",
       "      <td>0</td>\n",
       "      <td>50</td>\n",
       "      <td>1</td>\n",
       "      <td>0</td>\n",
       "      <td>0</td>\n",
       "      <td>1</td>\n",
       "      <td>0</td>\n",
       "      <td>0</td>\n",
       "      <td>0</td>\n",
       "      <td>0</td>\n",
       "      <td>1</td>\n",
       "      <td>0</td>\n",
       "      <td>0</td>\n",
       "      <td>0</td>\n",
       "    </tr>\n",
       "    <tr>\n",
       "      <th>35</th>\n",
       "      <td>3417</td>\n",
       "      <td>412761</td>\n",
       "      <td>S</td>\n",
       "      <td>0.999995</td>\n",
       "      <td>-0.096241</td>\n",
       "      <td>0</td>\n",
       "      <td>50</td>\n",
       "      <td>0</td>\n",
       "      <td>1</td>\n",
       "      <td>0</td>\n",
       "      <td>1</td>\n",
       "      <td>0</td>\n",
       "      <td>0</td>\n",
       "      <td>0</td>\n",
       "      <td>0</td>\n",
       "      <td>1</td>\n",
       "      <td>0</td>\n",
       "      <td>0</td>\n",
       "      <td>0</td>\n",
       "    </tr>\n",
       "    <tr>\n",
       "      <th>65</th>\n",
       "      <td>7099</td>\n",
       "      <td>541307</td>\n",
       "      <td>S</td>\n",
       "      <td>0.999990</td>\n",
       "      <td>-0.118044</td>\n",
       "      <td>0</td>\n",
       "      <td>11</td>\n",
       "      <td>0</td>\n",
       "      <td>1</td>\n",
       "      <td>0</td>\n",
       "      <td>1</td>\n",
       "      <td>0</td>\n",
       "      <td>0</td>\n",
       "      <td>0</td>\n",
       "      <td>1</td>\n",
       "      <td>0</td>\n",
       "      <td>0</td>\n",
       "      <td>0</td>\n",
       "      <td>0</td>\n",
       "    </tr>\n",
       "    <tr>\n",
       "      <th>68</th>\n",
       "      <td>7347</td>\n",
       "      <td>182294</td>\n",
       "      <td>S</td>\n",
       "      <td>0.999990</td>\n",
       "      <td>0.094454</td>\n",
       "      <td>0</td>\n",
       "      <td>50</td>\n",
       "      <td>0</td>\n",
       "      <td>1</td>\n",
       "      <td>0</td>\n",
       "      <td>1</td>\n",
       "      <td>0</td>\n",
       "      <td>0</td>\n",
       "      <td>0</td>\n",
       "      <td>0</td>\n",
       "      <td>1</td>\n",
       "      <td>0</td>\n",
       "      <td>0</td>\n",
       "      <td>0</td>\n",
       "    </tr>\n",
       "    <tr>\n",
       "      <th>115</th>\n",
       "      <td>4141</td>\n",
       "      <td>586236</td>\n",
       "      <td>S</td>\n",
       "      <td>0.999985</td>\n",
       "      <td>-0.121451</td>\n",
       "      <td>0</td>\n",
       "      <td>50</td>\n",
       "      <td>0</td>\n",
       "      <td>1</td>\n",
       "      <td>0</td>\n",
       "      <td>1</td>\n",
       "      <td>0</td>\n",
       "      <td>0</td>\n",
       "      <td>0</td>\n",
       "      <td>0</td>\n",
       "      <td>1</td>\n",
       "      <td>0</td>\n",
       "      <td>0</td>\n",
       "      <td>0</td>\n",
       "    </tr>\n",
       "  </tbody>\n",
       "</table>\n",
       "</div>"
      ],
      "text/plain": [
       "     element_uid  user_uid consumption_mode        ts  watched_time  \\\n",
       "4           5543    340623                P  1.000000     -0.082093   \n",
       "35          3417    412761                S  0.999995     -0.096241   \n",
       "65          7099    541307                S  0.999990     -0.118044   \n",
       "68          7347    182294                S  0.999990      0.094454   \n",
       "115         4141    586236                S  0.999985     -0.121451   \n",
       "\n",
       "     device_type  device_manufacturer  cons_P  cons_S  cons_R  device_0  \\\n",
       "4              0                   50       1       0       0         1   \n",
       "35             0                   50       0       1       0         1   \n",
       "65             0                   11       0       1       0         1   \n",
       "68             0                   50       0       1       0         1   \n",
       "115            0                   50       0       1       0         1   \n",
       "\n",
       "     device_1  device_3  device_5  manuf_11  manuf_50  manuf_76  manuf_90  \\\n",
       "4           0         0         0         0         1         0         0   \n",
       "35          0         0         0         0         1         0         0   \n",
       "65          0         0         0         1         0         0         0   \n",
       "68          0         0         0         0         1         0         0   \n",
       "115         0         0         0         0         1         0         0   \n",
       "\n",
       "     manuf_99  \n",
       "4           0  \n",
       "35          0  \n",
       "65          0  \n",
       "68          0  \n",
       "115         0  "
      ]
     },
     "execution_count": 34,
     "metadata": {},
     "output_type": "execute_result"
    }
   ],
   "source": [
    "transactions_copy = transactions.copy()\n",
    "transactions_copy['ts'] = minmax(transactions['ts'])\n",
    "transactions_copy['watched_time'] = zscore(transactions['watched_time'])\n",
    "\n",
    "transactions_copy = pd.concat([\n",
    "    transactions_copy, consumption_mode_df, device_type_df, manufacturers_df\n",
    "], axis=1)\n",
    "\n",
    "print(transactions_copy.shape)\n",
    "transactions_copy.head()"
   ]
  },
  {
   "cell_type": "code",
   "execution_count": 36,
   "metadata": {},
   "outputs": [],
   "source": [
    "path = os.path.join(folder, 'transactions.csv')\n",
    "transactions_copy.to_csv(path, index=False)"
   ]
  },
  {
   "cell_type": "markdown",
   "metadata": {},
   "source": [
    "### EDA & Preprocessing for `bookmarks.csv`"
   ]
  },
  {
   "cell_type": "code",
   "execution_count": 49,
   "metadata": {},
   "outputs": [
    {
     "data": {
      "text/plain": [
       "user_uid\n",
       "546190    422\n",
       "393374    415\n",
       "352028    408\n",
       "112451    407\n",
       "270489    372\n",
       "         ... \n",
       "468607      1\n",
       "365563      1\n",
       "516706      1\n",
       "134568      1\n",
       "534414      1\n",
       "Name: element_uid, Length: 6897, dtype: int64"
      ]
     },
     "execution_count": 49,
     "metadata": {},
     "output_type": "execute_result"
    }
   ],
   "source": [
    "n_bookmarks = bookmarks.groupby('user_uid')['element_uid'].count().sort_values(ascending=False)\n",
    "n_bookmarks"
   ]
  },
  {
   "cell_type": "code",
   "execution_count": 50,
   "metadata": {},
   "outputs": [],
   "source": [
    "n_bookmarks = n_bookmarks.to_dict()\n",
    "path = os.path.join(folder, 'n_bookmarks.json')\n",
    "json.dump(n_bookmarks, open(path, 'w'))"
   ]
  },
  {
   "cell_type": "code",
   "execution_count": 51,
   "metadata": {},
   "outputs": [
    {
     "data": {
      "text/plain": [
       "user_uid\n",
       "25        1.981984e+06\n",
       "197       1.972322e+06\n",
       "222       0.000000e+00\n",
       "229       2.305823e+06\n",
       "338       1.382518e+06\n",
       "              ...     \n",
       "593256    6.027991e+05\n",
       "593323    0.000000e+00\n",
       "593353    1.845534e+06\n",
       "593357    6.139820e+05\n",
       "593359    2.422618e+06\n",
       "Name: ts, Length: 6897, dtype: float64"
      ]
     },
     "execution_count": 51,
     "metadata": {},
     "output_type": "execute_result"
    }
   ],
   "source": [
    "ts = bookmarks.groupby('user_uid')['ts']\n",
    "delta_ts = ts.max() - ts.min()\n",
    "delta_ts"
   ]
  },
  {
   "cell_type": "code",
   "execution_count": 52,
   "metadata": {},
   "outputs": [
    {
     "data": {
      "image/png": "[encoded data removed]",
      "text/plain": [
       "<Figure size 640x480 with 1 Axes>"
      ]
     },
     "metadata": {},
     "output_type": "display_data"
    }
   ],
   "source": [
    "plt.hist(delta_ts, bins=100)\n",
    "plt.yscale('log')\n",
    "plt.xlabel('разница времени между первой и последней закладками')\n",
    "plt.show()"
   ]
  },
  {
   "cell_type": "code",
   "execution_count": 53,
   "metadata": {},
   "outputs": [
    {
     "data": {
      "text/plain": [
       "user_uid\n",
       "25        14.499609\n",
       "197       14.494722\n",
       "222        0.000000\n",
       "229       14.650948\n",
       "338       14.139417\n",
       "            ...    \n",
       "593256    13.309339\n",
       "593323     0.000000\n",
       "593353    14.428279\n",
       "593357    13.327721\n",
       "593359    14.700359\n",
       "Length: 6897, dtype: float64"
      ]
     },
     "execution_count": 53,
     "metadata": {},
     "output_type": "execute_result"
    }
   ],
   "source": [
    "delta_ts_values = delta_ts.values\n",
    "delta_ts_values[delta_ts_values == 0] = 1\n",
    "delta_ts_values = np.log(delta_ts_values)\n",
    "\n",
    "delta_ts_scaled = pd.Series(data=delta_ts_values, index=delta_ts.index)\n",
    "delta_ts_scaled"
   ]
  },
  {
   "cell_type": "code",
   "execution_count": 54,
   "metadata": {},
   "outputs": [],
   "source": [
    "path = os.path.join(folder, 'delta_ts.json')\n",
    "json.dump(delta_ts_scaled.to_dict(), open(path, 'w'))"
   ]
  },
  {
   "cell_type": "markdown",
   "metadata": {},
   "source": [
    "## Train Models"
   ]
  },
  {
   "cell_type": "markdown",
   "metadata": {},
   "source": [
    "Оценивание всех моделей буду производить так же, как в прошлой домашке:\n",
    "\n",
    "- для каждого пользователя беру самую последнюю по времени оценку, делаю предсказание для нее (релевантный объект)\n",
    "- так же для каждого пользователя семплю 99 негативных айтемов, делаю предсказания для них (нерелевантные объекты)\n",
    "- меряю HR@10 и NDCG@10 для получившихся выдач длины 100\n",
    "\n",
    "Для подсчёта метрик релевантности перевожу рейтинги в метки релевантности:\n",
    "- 9-10 -> 2 (highly relevant)\n",
    "- 7-8 -> 1 (relevant)\n",
    "- 0-6 -> 0 (irrelevant)"
   ]
  },
  {
   "cell_type": "code",
   "execution_count": 1,
   "metadata": {},
   "outputs": [],
   "source": [
    "import numpy as np\n",
    "import pandas as pd\n",
    "import os\n",
    "import json"
   ]
  },
  {
   "cell_type": "code",
   "execution_count": 2,
   "metadata": {},
   "outputs": [],
   "source": [
    "DATA_PATH = '/home/ilya/repos/recsys/data/rekko'"
   ]
  },
  {
   "cell_type": "markdown",
   "metadata": {},
   "source": [
    "### SVD"
   ]
  },
  {
   "cell_type": "markdown",
   "metadata": {},
   "source": [
    "Для SVD использую только оценки"
   ]
  },
  {
   "cell_type": "code",
   "execution_count": 3,
   "metadata": {},
   "outputs": [
    {
     "name": "stdout",
     "output_type": "stream",
     "text": [
      "(191421, 3)\n"
     ]
    },
    {
     "data": {
      "text/html": [
       "<div>\n",
       "<style scoped>\n",
       "    .dataframe tbody tr th:only-of-type {\n",
       "        vertical-align: middle;\n",
       "    }\n",
       "\n",
       "    .dataframe tbody tr th {\n",
       "        vertical-align: top;\n",
       "    }\n",
       "\n",
       "    .dataframe thead th {\n",
       "        text-align: right;\n",
       "    }\n",
       "</style>\n",
       "<table border=\"1\" class=\"dataframe\">\n",
       "  <thead>\n",
       "    <tr style=\"text-align: right;\">\n",
       "      <th></th>\n",
       "      <th>user_id</th>\n",
       "      <th>item_id</th>\n",
       "      <th>rating</th>\n",
       "    </tr>\n",
       "  </thead>\n",
       "  <tbody>\n",
       "    <tr>\n",
       "      <th>0</th>\n",
       "      <td>0</td>\n",
       "      <td>0</td>\n",
       "      <td>10</td>\n",
       "    </tr>\n",
       "    <tr>\n",
       "      <th>1</th>\n",
       "      <td>0</td>\n",
       "      <td>1</td>\n",
       "      <td>10</td>\n",
       "    </tr>\n",
       "    <tr>\n",
       "      <th>2</th>\n",
       "      <td>0</td>\n",
       "      <td>2</td>\n",
       "      <td>6</td>\n",
       "    </tr>\n",
       "    <tr>\n",
       "      <th>3</th>\n",
       "      <td>0</td>\n",
       "      <td>3</td>\n",
       "      <td>6</td>\n",
       "    </tr>\n",
       "    <tr>\n",
       "      <th>4</th>\n",
       "      <td>0</td>\n",
       "      <td>4</td>\n",
       "      <td>6</td>\n",
       "    </tr>\n",
       "  </tbody>\n",
       "</table>\n",
       "</div>"
      ],
      "text/plain": [
       "   user_id  item_id  rating\n",
       "0        0        0      10\n",
       "1        0        1      10\n",
       "2        0        2       6\n",
       "3        0        3       6\n",
       "4        0        4       6"
      ]
     },
     "execution_count": 3,
     "metadata": {},
     "output_type": "execute_result"
    }
   ],
   "source": [
    "train_ratings = pd.read_csv(\n",
    "    os.path.join(DATA_PATH, 'my_splits', 'train.csv'),\n",
    ").filter(items=['user_id', 'item_id', 'rating'])\n",
    "print(train_ratings.shape)\n",
    "train_ratings.head()"
   ]
  },
  {
   "cell_type": "code",
   "execution_count": 4,
   "metadata": {},
   "outputs": [
    {
     "name": "stdout",
     "output_type": "stream",
     "text": [
      "(9939, 3)\n"
     ]
    },
    {
     "data": {
      "text/html": [
       "<div>\n",
       "<style scoped>\n",
       "    .dataframe tbody tr th:only-of-type {\n",
       "        vertical-align: middle;\n",
       "    }\n",
       "\n",
       "    .dataframe tbody tr th {\n",
       "        vertical-align: top;\n",
       "    }\n",
       "\n",
       "    .dataframe thead th {\n",
       "        text-align: right;\n",
       "    }\n",
       "</style>\n",
       "<table border=\"1\" class=\"dataframe\">\n",
       "  <thead>\n",
       "    <tr style=\"text-align: right;\">\n",
       "      <th></th>\n",
       "      <th>user_id</th>\n",
       "      <th>item_id</th>\n",
       "      <th>rating</th>\n",
       "    </tr>\n",
       "  </thead>\n",
       "  <tbody>\n",
       "    <tr>\n",
       "      <th>0</th>\n",
       "      <td>0</td>\n",
       "      <td>398</td>\n",
       "      <td>10</td>\n",
       "    </tr>\n",
       "    <tr>\n",
       "      <th>1</th>\n",
       "      <td>1</td>\n",
       "      <td>463</td>\n",
       "      <td>5</td>\n",
       "    </tr>\n",
       "    <tr>\n",
       "      <th>2</th>\n",
       "      <td>2</td>\n",
       "      <td>70</td>\n",
       "      <td>10</td>\n",
       "    </tr>\n",
       "    <tr>\n",
       "      <th>3</th>\n",
       "      <td>3</td>\n",
       "      <td>254</td>\n",
       "      <td>10</td>\n",
       "    </tr>\n",
       "    <tr>\n",
       "      <th>4</th>\n",
       "      <td>4</td>\n",
       "      <td>698</td>\n",
       "      <td>6</td>\n",
       "    </tr>\n",
       "  </tbody>\n",
       "</table>\n",
       "</div>"
      ],
      "text/plain": [
       "   user_id  item_id  rating\n",
       "0        0      398      10\n",
       "1        1      463       5\n",
       "2        2       70      10\n",
       "3        3      254      10\n",
       "4        4      698       6"
      ]
     },
     "execution_count": 4,
     "metadata": {},
     "output_type": "execute_result"
    }
   ],
   "source": [
    "val_ratings = pd.read_csv(\n",
    "    os.path.join(DATA_PATH, 'my_splits', 'val.csv'),\n",
    ").filter(items=['user_id', 'item_id', 'rating'])\n",
    "print(val_ratings.shape)\n",
    "val_ratings.head()"
   ]
  },
  {
   "cell_type": "markdown",
   "metadata": {},
   "source": [
    "Добавим для каждого валидационного примера 99 негативных примеров с таким же юзером (для дальнейшей эвалюации с помощью метрик ранжирования)"
   ]
  },
  {
   "cell_type": "code",
   "execution_count": 5,
   "metadata": {},
   "outputs": [],
   "source": [
    "from random import sample\n",
    "\n",
    "positive_sets_path = os.path.join(DATA_PATH, 'my_splits', 'positive_sets.json')\n",
    "positive_sets = json.load(open(positive_sets_path, 'r'))\n",
    "positive_sets = {int(user_id): set(pos_items) for user_id, pos_items in positive_sets.items()}\n",
    "\n",
    "all_items_path = os.path.join(DATA_PATH, 'my_splits', 'all_items.json')\n",
    "all_items = set(json.load(open(all_items_path, 'r')))\n",
    "\n",
    "def negative_sampling(user_id, k):\n",
    "    negative_item_ids = list(all_items.difference(positive_sets[user_id]))\n",
    "    return sample(negative_item_ids, k=k)"
   ]
  },
  {
   "cell_type": "code",
   "execution_count": 23,
   "metadata": {},
   "outputs": [
    {
     "data": {
      "text/plain": [
       "(983961, 3)"
      ]
     },
     "execution_count": 23,
     "metadata": {},
     "output_type": "execute_result"
    }
   ],
   "source": [
    "k = 99\n",
    "val_ratings_neg = pd.concat([\n",
    "    pd.DataFrame({\n",
    "        'item_id': negative_sampling(uid, k),\n",
    "        'user_id': [uid] * k,\n",
    "        'rating': [-1] * k\n",
    "    }) for uid in val_ratings.user_id\n",
    "], axis=0)\n",
    "val_ratings_neg.shape"
   ]
  },
  {
   "cell_type": "code",
   "execution_count": 25,
   "metadata": {},
   "outputs": [
    {
     "data": {
      "text/plain": [
       "(993900, 3)"
      ]
     },
     "execution_count": 25,
     "metadata": {},
     "output_type": "execute_result"
    }
   ],
   "source": [
    "val_ratings_with_neg = pd.concat([val_ratings, val_ratings_neg], axis=0)\n",
    "val_ratings_with_neg.shape"
   ]
  },
  {
   "cell_type": "markdown",
   "metadata": {},
   "source": [
    "Эксперименты и замер качества"
   ]
  },
  {
   "cell_type": "code",
   "execution_count": null,
   "metadata": {},
   "outputs": [],
   "source": [
    "def relevance_label(rating):\n",
    "    return (rating >= 8) + (rating >= 7)"
   ]
  },
  {
   "cell_type": "code",
   "execution_count": 37,
   "metadata": {},
   "outputs": [],
   "source": [
    "from src import svd\n",
    "from src.metrics import hit_ratio, normalized_discounted_cumulative_gain as ndcg\n",
    "\n",
    "def svd_exp(n_factors):\n",
    "    _, val_preds = svd(\n",
    "        train_ratings,\n",
    "        val_ratings_with_neg,\n",
    "        n_factors=n_factors,\n",
    "        n_epochs=10,\n",
    "        batch_size=128,\n",
    "        lr=3e-3,\n",
    "        reg=1e-1,\n",
    "        random_state=0,\n",
    "        verbose=False\n",
    "    )\n",
    "\n",
    "    preds = val_preds.groupby('user_id')['pred_rating'].apply(np.array)\n",
    "    targets = [[relevance_label(r)] + [0] * k for r in val_preds.rating]\n",
    "\n",
    "    print('HR@10:', '{0:.4f}'.format(hit_ratio(preds, top_k=10)))\n",
    "    print('NDCG@10:', '{0:.4f}'.format(ndcg(targets, preds, top_k=10)))"
   ]
  },
  {
   "cell_type": "code",
   "execution_count": 38,
   "metadata": {},
   "outputs": [
    {
     "name": "stdout",
     "output_type": "stream",
     "text": [
      "HR@10: 0.3627\n",
      "NDCG@10: 0.1675\n"
     ]
    }
   ],
   "source": [
    "svd_exp(n_factors=8)"
   ]
  },
  {
   "cell_type": "code",
   "execution_count": 39,
   "metadata": {},
   "outputs": [
    {
     "name": "stdout",
     "output_type": "stream",
     "text": [
      "HR@10: 0.3589\n",
      "NDCG@10: 0.1688\n"
     ]
    }
   ],
   "source": [
    "svd_exp(n_factors=10)"
   ]
  },
  {
   "cell_type": "code",
   "execution_count": 40,
   "metadata": {},
   "outputs": [
    {
     "name": "stdout",
     "output_type": "stream",
     "text": [
      "HR@10: 0.3620\n",
      "NDCG@10: 0.1690\n"
     ]
    }
   ],
   "source": [
    "svd_exp(n_factors=12)"
   ]
  },
  {
   "cell_type": "markdown",
   "metadata": {},
   "source": [
    "### NeuMF"
   ]
  },
  {
   "cell_type": "markdown",
   "metadata": {},
   "source": [
    "Использую код с прошлой домашки. Здесь привожу только результаты эвалюации."
   ]
  },
  {
   "cell_type": "markdown",
   "metadata": {},
   "source": [
    "8 факторов:"
   ]
  },
  {
   "cell_type": "code",
   "execution_count": 52,
   "metadata": {},
   "outputs": [
    {
     "name": "stdout",
     "output_type": "stream",
     "text": [
      "GPU available: True (cuda), used: True\n",
      "TPU available: False, using: 0 TPU cores\n",
      "IPU available: False, using: 0 IPUs\n",
      "HPU available: False, using: 0 HPUs\n",
      "Started at 09:55:06 14-12-2023\n",
      "Restoring states from the checkpoint path at logs/tb/ncf-8/version_0/checkpoints/epoch=0-step=747.ckpt\n",
      "LOCAL_RANK: 0 - CUDA_VISIBLE_DEVICES: [0]\n",
      "Loaded model weights from the checkpoint at logs/tb/ncf-8/version_0/checkpoints/epoch=0-step=747.ckpt\n",
      "────────────────────────────────────────────────────────────────────────────────\n",
      "     Validate metric           DataLoader 0\n",
      "────────────────────────────────────────────────────────────────────────────────\n",
      "        val_hr@10           0.6690813899040222\n",
      "       val_ndcg@10          0.4116329252719879\n",
      "────────────────────────────────────────────────────────────────────────────────\n",
      "Finished at 09:55:14 14-12-2023\n"
     ]
    }
   ],
   "source": [
    "! python3 train.py --eval --model ncf --name ncf-8-eval --embedding-dim 8 --batch-size 256 --gmf-weights \"logs/tb/gmf-8/version_0/checkpoints/epoch=9-step=478550.ckpt\" --mlp-weights \"logs/tb/mlp-8-v2/version_0/checkpoints/epoch=9-step=7470.ckpt\" --resume-from \"logs/tb/ncf-8/version_0/checkpoints/epoch=0-step=747.ckpt\""
   ]
  },
  {
   "cell_type": "markdown",
   "metadata": {},
   "source": [
    "10 факторов:"
   ]
  },
  {
   "cell_type": "code",
   "execution_count": 56,
   "metadata": {},
   "outputs": [
    {
     "name": "stdout",
     "output_type": "stream",
     "text": [
      "GPU available: True (cuda), used: True\n",
      "TPU available: False, using: 0 TPU cores\n",
      "IPU available: False, using: 0 IPUs\n",
      "HPU available: False, using: 0 HPUs\n",
      "Started at 10:29:11 14-12-2023\n",
      "Missing logger folder: ./logs/tb/ncf-10-eval\n",
      "Restoring states from the checkpoint path at logs/tb/ncf-10/version_0/checkpoints/epoch=2-step=2241.ckpt\n",
      "LOCAL_RANK: 0 - CUDA_VISIBLE_DEVICES: [0]\n",
      "Loaded model weights from the checkpoint at logs/tb/ncf-10/version_0/checkpoints/epoch=2-step=2241.ckpt\n",
      "────────────────────────────────────────────────────────────────────────────────\n",
      "     Validate metric           DataLoader 0\n",
      "────────────────────────────────────────────────────────────────────────────────\n",
      "        val_hr@10           0.6618372201919556\n",
      "       val_ndcg@10          0.4098840057849884\n",
      "────────────────────────────────────────────────────────────────────────────────\n",
      "Finished at 10:29:18 14-12-2023\n"
     ]
    }
   ],
   "source": [
    "! python3 train.py --eval --model ncf --name ncf-10-eval --embedding-dim 10 --batch-size 256 --gmf-weights \"logs/tb/gmf-10/version_0/checkpoints/epoch=9-step=478550.ckpt\" --mlp-weights \"logs/tb/mlp-10/version_0/checkpoints/epoch=7-step=5976.ckpt\" --resume-from \"logs/tb/ncf-10/version_0/checkpoints/epoch=2-step=2241.ckpt\""
   ]
  },
  {
   "cell_type": "markdown",
   "metadata": {},
   "source": [
    "12 факторов:"
   ]
  },
  {
   "cell_type": "code",
   "execution_count": 61,
   "metadata": {},
   "outputs": [
    {
     "name": "stdout",
     "output_type": "stream",
     "text": [
      "GPU available: True (cuda), used: True\n",
      "TPU available: False, using: 0 TPU cores\n",
      "IPU available: False, using: 0 IPUs\n",
      "HPU available: False, using: 0 HPUs\n",
      "Started at 11:01:52 14-12-2023\n",
      "Restoring states from the checkpoint path at logs/tb/ncf-12/version_0/checkpoints/epoch=3-step=2988.ckpt\n",
      "LOCAL_RANK: 0 - CUDA_VISIBLE_DEVICES: [0]\n",
      "Loaded model weights from the checkpoint at logs/tb/ncf-12/version_0/checkpoints/epoch=3-step=2988.ckpt\n",
      "────────────────────────────────────────────────────────────────────────────────\n",
      "     Validate metric           DataLoader 0\n",
      "────────────────────────────────────────────────────────────────────────────────\n",
      "        val_hr@10           0.6597242951393127\n",
      "       val_ndcg@10          0.40559157729148865\n",
      "────────────────────────────────────────────────────────────────────────────────\n",
      "Finished at 11:02:00 14-12-2023\n"
     ]
    }
   ],
   "source": [
    "! python3 train.py --eval --model ncf --name ncf-12-eval --embedding-dim 12 --batch-size 256 --gmf-weights \"logs/tb/gmf-12/version_0/checkpoints/epoch=9-step=478550.ckpt\" --mlp-weights \"logs/tb/mlp-12/version_0/checkpoints/epoch=5-step=4482.ckpt\" --resume-from \"logs/tb/ncf-12/version_0/checkpoints/epoch=3-step=2988.ckpt\""
   ]
  },
  {
   "cell_type": "markdown",
   "metadata": {},
   "source": [
    "### Hybrid Collaborating Filtering"
   ]
  },
  {
   "cell_type": "code",
   "execution_count": 26,
   "metadata": {},
   "outputs": [
    {
     "name": "stdout",
     "output_type": "stream",
     "text": [
      "GPU available: True (cuda), used: True\n",
      "TPU available: False, using: 0 TPU cores\n",
      "IPU available: False, using: 0 IPUs\n",
      "HPU available: False, using: 0 HPUs\n",
      "Started at 14:06:10 14-12-2023\n",
      "Missing logger folder: ./logs/tb/hybrid-eval\n",
      "Restoring states from the checkpoint path at logs/tb/hybrid/version_13/checkpoints/epoch=3-step=11960.ckpt\n",
      "LOCAL_RANK: 0 - CUDA_VISIBLE_DEVICES: [0]\n",
      "Loaded model weights from the checkpoint at logs/tb/hybrid/version_13/checkpoints/epoch=3-step=11960.ckpt\n",
      "────────────────────────────────────────────────────────────────────────────────\n",
      "     Validate metric           DataLoader 0\n",
      "────────────────────────────────────────────────────────────────────────────────\n",
      "        val_hr@10           0.7211993336677551\n",
      "       val_ndcg@10          0.4658750891685486\n",
      "────────────────────────────────────────────────────────────────────────────────\n",
      "Finished at 14:06:19 14-12-2023\n"
     ]
    }
   ],
   "source": [
    "! python3 train.py --eval --model hybrid --name hybrid-eval --embedding-dim 8 --batch-size 64 --gmf-weights \"logs/tb/gmf-8/version_0/checkpoints/epoch=9-step=478550.ckpt\" --mlp-weights \"logs/tb/mlp-8-v2/version_0/checkpoints/epoch=9-step=7470.ckpt\" --resume-from \"logs/tb/hybrid/version_13/checkpoints/epoch=3-step=11960.ckpt\""
   ]
  },
  {
   "cell_type": "code",
   "execution_count": 29,
   "metadata": {},
   "outputs": [
    {
     "name": "stdout",
     "output_type": "stream",
     "text": [
      "GPU available: True (cuda), used: True\n",
      "TPU available: False, using: 0 TPU cores\n",
      "IPU available: False, using: 0 IPUs\n",
      "HPU available: False, using: 0 HPUs\n",
      "Started at 14:24:33 14-12-2023\n",
      "Missing logger folder: ./logs/tb/hybrid-10-eval\n",
      "Restoring states from the checkpoint path at logs/tb/hybrid-10/version_0/checkpoints/epoch=2-step=8970.ckpt\n",
      "LOCAL_RANK: 0 - CUDA_VISIBLE_DEVICES: [0]\n",
      "Loaded model weights from the checkpoint at logs/tb/hybrid-10/version_0/checkpoints/epoch=2-step=8970.ckpt\n",
      "────────────────────────────────────────────────────────────────────────────────\n",
      "     Validate metric           DataLoader 0\n",
      "────────────────────────────────────────────────────────────────────────────────\n",
      "        val_hr@10           0.7176778316497803\n",
      "       val_ndcg@10          0.4646121859550476\n",
      "────────────────────────────────────────────────────────────────────────────────\n",
      "Finished at 14:24:41 14-12-2023\n"
     ]
    }
   ],
   "source": [
    "! python3 train.py --eval --model hybrid --name hybrid-10-eval --embedding-dim 10 --batch-size 64 --gmf-weights \"logs/tb/gmf-10/version_0/checkpoints/epoch=9-step=478550.ckpt\" --mlp-weights \"logs/tb/mlp-10/version_0/checkpoints/epoch=7-step=5976.ckpt\" --resume-from \"logs/tb/hybrid-10/version_0/checkpoints/epoch=2-step=8970.ckpt\""
   ]
  },
  {
   "cell_type": "code",
   "execution_count": 30,
   "metadata": {},
   "outputs": [
    {
     "name": "stdout",
     "output_type": "stream",
     "text": [
      "GPU available: True (cuda), used: True\n",
      "TPU available: False, using: 0 TPU cores\n",
      "IPU available: False, using: 0 IPUs\n",
      "HPU available: False, using: 0 HPUs\n",
      "Started at 14:25:09 14-12-2023\n",
      "Missing logger folder: ./logs/tb/hybrid-12-eval\n",
      "Restoring states from the checkpoint path at logs/tb/hybrid-12/version_0/checkpoints/epoch=1-step=5980.ckpt\n",
      "LOCAL_RANK: 0 - CUDA_VISIBLE_DEVICES: [0]\n",
      "Loaded model weights from the checkpoint at logs/tb/hybrid-12/version_0/checkpoints/epoch=1-step=5980.ckpt\n",
      "────────────────────────────────────────────────────────────────────────────────\n",
      "     Validate metric           DataLoader 0\n",
      "────────────────────────────────────────────────────────────────────────────────\n",
      "        val_hr@10           0.7146593928337097\n",
      "       val_ndcg@10          0.4578937590122223\n",
      "────────────────────────────────────────────────────────────────────────────────\n",
      "Finished at 14:25:18 14-12-2023\n"
     ]
    }
   ],
   "source": [
    "! python3 train.py --eval --model hybrid --name hybrid-12-eval --embedding-dim 12 --batch-size 64 --gmf-weights \"logs/tb/gmf-12/version_0/checkpoints/epoch=9-step=478550.ckpt\" --mlp-weights \"logs/tb/mlp-12/version_0/checkpoints/epoch=5-step=4482.ckpt\" --resume-from \"logs/tb/hybrid-12/version_0/checkpoints/epoch=1-step=5980.ckpt\""
   ]
  },
  {
   "cell_type": "markdown",
   "metadata": {},
   "source": [
    "### Hybrid Collaborative Filtering (v2)"
   ]
  },
  {
   "cell_type": "code",
   "execution_count": 33,
   "metadata": {},
   "outputs": [
    {
     "name": "stdout",
     "output_type": "stream",
     "text": [
      "GPU available: True (cuda), used: True\n",
      "TPU available: False, using: 0 TPU cores\n",
      "IPU available: False, using: 0 IPUs\n",
      "HPU available: False, using: 0 HPUs\n",
      "Started at 14:45:14 14-12-2023\n",
      "Restoring states from the checkpoint path at logs/tb/hybrid-v2/version_0/checkpoints/epoch=0-step=2990.ckpt\n",
      "LOCAL_RANK: 0 - CUDA_VISIBLE_DEVICES: [0]\n",
      "Loaded model weights from the checkpoint at logs/tb/hybrid-v2/version_0/checkpoints/epoch=0-step=2990.ckpt\n",
      "────────────────────────────────────────────────────────────────────────────────\n",
      "     Validate metric           DataLoader 0\n",
      "────────────────────────────────────────────────────────────────────────────────\n",
      "        val_hr@10           0.7233121991157532\n",
      "       val_ndcg@10          0.4720586836338043\n",
      "────────────────────────────────────────────────────────────────────────────────\n",
      "Finished at 14:45:23 14-12-2023\n"
     ]
    }
   ],
   "source": [
    "! python3 train.py --with-hidden --eval --model hybrid --name hybrid-v2-eval --embedding-dim 8 --batch-size 64 --gmf-weights \"logs/tb/gmf-8/version_0/checkpoints/epoch=9-step=478550.ckpt\" --mlp-weights \"logs/tb/mlp-8-v2/version_0/checkpoints/epoch=9-step=7470.ckpt\" --resume-from \"logs/tb/hybrid-v2/version_0/checkpoints/epoch=0-step=2990.ckpt\""
   ]
  }
 ],
 "metadata": {
  "kernelspec": {
   "display_name": ".venv",
   "language": "python",
   "name": "python3"
  },
  "language_info": {
   "codemirror_mode": {
    "name": "ipython",
    "version": 3
   },
   "file_extension": ".py",
   "mimetype": "text/x-python",
   "name": "python",
   "nbconvert_exporter": "python",
   "pygments_lexer": "ipython3",
   "version": "3.10.12"
  }
 },
 "nbformat": 4,
 "nbformat_minor": 2
}
