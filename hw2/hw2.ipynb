{
 "cells": [
  {
   "cell_type": "markdown",
   "metadata": {},
   "source": [
    "# Ranking"
   ]
  },
  {
   "cell_type": "markdown",
   "metadata": {},
   "source": [
    "ДЗ№2. LambdaRank или LambdaMART.\n",
    "1. Нужно самостоятельно реализовать метрики ранжирования MAP, MRR, NDCG (вместо семинара).\n",
    "2. Нужно реализовать алгоритм ранжирования LambdaRank или LambdaMART. Реализовать и то и другой будет плюсом. (см. ссылки ниже).\n",
    "3. Протестировать алгоритм на «стандартных» датасэтах MQ2007 и MQ2008 https://www.microsoft.com/en-us/research/project/letor-learning-rank-information-retrieval/letor-4-0/ (вычислите метрики из пункта 1)\n",
    "4. Применить алгоритм к дастасэту movielens https://grouplens.org/datasets/movielens/ . Считая, что оценка «5» – это релевантный фильм, «4» – это тоже релевантный фильм (но очевидно релевантность таких фильмов ниже, чем с оценкой «5»), остальные оценки не являются релевантными. Подумайте как адаптировать формат из \"стандартных\" датасэтов для ранжирования к задаче рекомендаций. Не поленитесь описать это комментарием в коде.\n",
    "5. Если вы делали ДЗ №1 то сравнить, ранжирование из пункта 4 с результатами «своего» SVD, если не делали то можно сравнить результаты с «чужого» SVD (например из библиотеки https://implicit.readthedocs.io/en/latest/quickstart.html , https://surprise.readthedocs.io/en/stable/getting_started.html)\n",
    " Насколько «качество» (определите качество самостоятельно - обоснуйте выбор) отличается на топ-3, топ-5, топ-10 фильмов?\n",
    "\n",
    "Ссылки:\n",
    "1. Основная статья: https://proceedings.neurips.cc/paper/2006/file/af44c4c56f385c43f2529f9b1b018f6a-Paper.pdf (запасная ссылка: https://www.microsoft.com/en-us/research/wp-content/uploads/2016/02/lambdarank.pdf )\n",
    "2. Также полезно почитать:\n",
    "https://www.microsoft.com/en-us/research/wp-content/uploads/2016/02/MSR-TR-2010-82.pdf \n",
    "https://www.cs.cmu.edu/~pinard/Papers/sigirfp092-donmez.pdf \n",
    "3. Примеры с формулами (но без подробностей):\n",
    "https://everdark.github.io/k9/notebooks/ml/learning_to_rank/learning_to_rank.html \n",
    "4. Можно повдохновляться кодом на «плюсах»:\n",
    "https://github.com/microsoft/LightGBM/blob/e79716e0b69b27c8e6e2c39f59d0db7c63242f9a/src/objective/rank_objective.hpp"
   ]
  },
  {
   "cell_type": "markdown",
   "metadata": {},
   "source": [
    "## Load Data"
   ]
  },
  {
   "cell_type": "markdown",
   "metadata": {},
   "source": [
    "### Movielens"
   ]
  },
  {
   "cell_type": "code",
   "execution_count": null,
   "metadata": {},
   "outputs": [],
   "source": [
    "# ! wget https://files.grouplens.org/datasets/movielens/ml-100k.zip\n",
    "# ! unzip ml-100k.zip"
   ]
  },
  {
   "cell_type": "code",
   "execution_count": null,
   "metadata": {},
   "outputs": [],
   "source": [
    "import pandas as pd\n",
    "import os\n",
    "\n",
    "\n",
    "def load_movielens(fname, path='/home/ilya/repos/recsys/hw1/ml-100k'):\n",
    "    path = os.path.join(path, fname)\n",
    "    return pd.read_csv(path, sep='\\t', names=['user_id', 'item_id', 'rating', 'timestamp']).drop(columns=['timestamp'])\n",
    "\n",
    "df = load_movielens('ua.base')\n",
    "df.describe()"
   ]
  },
  {
   "cell_type": "markdown",
   "metadata": {},
   "source": [
    "### MQ2007 и MQ2008"
   ]
  },
  {
   "cell_type": "markdown",
   "metadata": {},
   "source": [
    "Ссылки:\n",
    "- Описание датасетов, признаков и тп: [статья](https://arxiv.org/pdf/1306.2597.pdf)\n",
    "- Скачать датасет: [LETOR 4.0](https://www.microsoft.com/en-us/research/project/letor-learning-rank-information-retrieval/letor-4-0/)"
   ]
  },
  {
   "cell_type": "code",
   "execution_count": 1,
   "metadata": {},
   "outputs": [],
   "source": [
    "from ranking.datasets import MQDataset\n",
    "path = '../data/MQ2008/Fold2'\n",
    "train_dataset = MQDataset(fold_path=path, split='train')\n",
    "val_dataset = MQDataset(fold_path=path, split='vali')"
   ]
  },
  {
   "cell_type": "code",
   "execution_count": 2,
   "metadata": {},
   "outputs": [
    {
     "data": {
      "text/html": [
       "<div>\n",
       "<style scoped>\n",
       "    .dataframe tbody tr th:only-of-type {\n",
       "        vertical-align: middle;\n",
       "    }\n",
       "\n",
       "    .dataframe tbody tr th {\n",
       "        vertical-align: top;\n",
       "    }\n",
       "\n",
       "    .dataframe thead th {\n",
       "        text-align: right;\n",
       "    }\n",
       "</style>\n",
       "<table border=\"1\" class=\"dataframe\">\n",
       "  <thead>\n",
       "    <tr style=\"text-align: right;\">\n",
       "      <th></th>\n",
       "      <th>relevance_label</th>\n",
       "      <th>qid</th>\n",
       "      <th>1</th>\n",
       "      <th>2</th>\n",
       "      <th>3</th>\n",
       "      <th>4</th>\n",
       "      <th>5</th>\n",
       "      <th>6</th>\n",
       "      <th>7</th>\n",
       "      <th>8</th>\n",
       "      <th>...</th>\n",
       "      <th>40</th>\n",
       "      <th>41</th>\n",
       "      <th>42</th>\n",
       "      <th>43</th>\n",
       "      <th>44</th>\n",
       "      <th>45</th>\n",
       "      <th>46</th>\n",
       "      <th>docid</th>\n",
       "      <th>inc</th>\n",
       "      <th>prob</th>\n",
       "    </tr>\n",
       "  </thead>\n",
       "  <tbody>\n",
       "    <tr>\n",
       "      <th>0</th>\n",
       "      <td>0</td>\n",
       "      <td>11909.0</td>\n",
       "      <td>0.049554</td>\n",
       "      <td>0.0</td>\n",
       "      <td>0.0</td>\n",
       "      <td>0.000000</td>\n",
       "      <td>0.048537</td>\n",
       "      <td>0.0</td>\n",
       "      <td>0.0</td>\n",
       "      <td>0.0</td>\n",
       "      <td>...</td>\n",
       "      <td>0.682844</td>\n",
       "      <td>0.000000</td>\n",
       "      <td>0.000000</td>\n",
       "      <td>0.0</td>\n",
       "      <td>0.208262</td>\n",
       "      <td>0.089286</td>\n",
       "      <td>1.000000</td>\n",
       "      <td>GX000-01-8011551</td>\n",
       "      <td>1.000000</td>\n",
       "      <td>0.278009</td>\n",
       "    </tr>\n",
       "    <tr>\n",
       "      <th>1</th>\n",
       "      <td>0</td>\n",
       "      <td>11909.0</td>\n",
       "      <td>0.000000</td>\n",
       "      <td>0.0</td>\n",
       "      <td>0.4</td>\n",
       "      <td>0.166667</td>\n",
       "      <td>0.000000</td>\n",
       "      <td>0.0</td>\n",
       "      <td>0.0</td>\n",
       "      <td>0.0</td>\n",
       "      <td>...</td>\n",
       "      <td>0.000000</td>\n",
       "      <td>0.000000</td>\n",
       "      <td>0.080000</td>\n",
       "      <td>0.0</td>\n",
       "      <td>0.000000</td>\n",
       "      <td>0.000000</td>\n",
       "      <td>0.000000</td>\n",
       "      <td>GX012-13-11604073</td>\n",
       "      <td>1.000000</td>\n",
       "      <td>0.081141</td>\n",
       "    </tr>\n",
       "    <tr>\n",
       "      <th>2</th>\n",
       "      <td>0</td>\n",
       "      <td>11909.0</td>\n",
       "      <td>0.012478</td>\n",
       "      <td>0.8</td>\n",
       "      <td>0.0</td>\n",
       "      <td>1.000000</td>\n",
       "      <td>0.014989</td>\n",
       "      <td>0.0</td>\n",
       "      <td>0.0</td>\n",
       "      <td>0.0</td>\n",
       "      <td>...</td>\n",
       "      <td>0.683032</td>\n",
       "      <td>1.000000</td>\n",
       "      <td>1.000000</td>\n",
       "      <td>0.0</td>\n",
       "      <td>1.000000</td>\n",
       "      <td>1.000000</td>\n",
       "      <td>0.166667</td>\n",
       "      <td>GX036-18-10002856</td>\n",
       "      <td>0.002252</td>\n",
       "      <td>0.109118</td>\n",
       "    </tr>\n",
       "    <tr>\n",
       "      <th>3</th>\n",
       "      <td>1</td>\n",
       "      <td>11909.0</td>\n",
       "      <td>0.049198</td>\n",
       "      <td>0.0</td>\n",
       "      <td>0.0</td>\n",
       "      <td>0.000000</td>\n",
       "      <td>0.048180</td>\n",
       "      <td>0.0</td>\n",
       "      <td>0.0</td>\n",
       "      <td>0.0</td>\n",
       "      <td>...</td>\n",
       "      <td>1.000000</td>\n",
       "      <td>1.000000</td>\n",
       "      <td>0.253333</td>\n",
       "      <td>0.0</td>\n",
       "      <td>0.040667</td>\n",
       "      <td>0.017857</td>\n",
       "      <td>0.000000</td>\n",
       "      <td>GX043-50-8139281</td>\n",
       "      <td>1.000000</td>\n",
       "      <td>0.256000</td>\n",
       "    </tr>\n",
       "    <tr>\n",
       "      <th>4</th>\n",
       "      <td>2</td>\n",
       "      <td>11909.0</td>\n",
       "      <td>0.252050</td>\n",
       "      <td>1.0</td>\n",
       "      <td>1.0</td>\n",
       "      <td>0.000000</td>\n",
       "      <td>0.254818</td>\n",
       "      <td>0.0</td>\n",
       "      <td>0.0</td>\n",
       "      <td>0.0</td>\n",
       "      <td>...</td>\n",
       "      <td>0.705649</td>\n",
       "      <td>0.333333</td>\n",
       "      <td>0.253333</td>\n",
       "      <td>0.0</td>\n",
       "      <td>0.004727</td>\n",
       "      <td>0.017857</td>\n",
       "      <td>0.527778</td>\n",
       "      <td>GX062-53-0946803</td>\n",
       "      <td>0.007940</td>\n",
       "      <td>0.205853</td>\n",
       "    </tr>\n",
       "  </tbody>\n",
       "</table>\n",
       "<p>5 rows × 51 columns</p>\n",
       "</div>"
      ],
      "text/plain": [
       "   relevance_label      qid         1    2    3         4         5    6    7  \\\n",
       "0                0  11909.0  0.049554  0.0  0.0  0.000000  0.048537  0.0  0.0   \n",
       "1                0  11909.0  0.000000  0.0  0.4  0.166667  0.000000  0.0  0.0   \n",
       "2                0  11909.0  0.012478  0.8  0.0  1.000000  0.014989  0.0  0.0   \n",
       "3                1  11909.0  0.049198  0.0  0.0  0.000000  0.048180  0.0  0.0   \n",
       "4                2  11909.0  0.252050  1.0  1.0  0.000000  0.254818  0.0  0.0   \n",
       "\n",
       "     8  ...        40        41        42   43        44        45        46  \\\n",
       "0  0.0  ...  0.682844  0.000000  0.000000  0.0  0.208262  0.089286  1.000000   \n",
       "1  0.0  ...  0.000000  0.000000  0.080000  0.0  0.000000  0.000000  0.000000   \n",
       "2  0.0  ...  0.683032  1.000000  1.000000  0.0  1.000000  1.000000  0.166667   \n",
       "3  0.0  ...  1.000000  1.000000  0.253333  0.0  0.040667  0.017857  0.000000   \n",
       "4  0.0  ...  0.705649  0.333333  0.253333  0.0  0.004727  0.017857  0.527778   \n",
       "\n",
       "               docid       inc      prob  \n",
       "0   GX000-01-8011551  1.000000  0.278009  \n",
       "1  GX012-13-11604073  1.000000  0.081141  \n",
       "2  GX036-18-10002856  0.002252  0.109118  \n",
       "3   GX043-50-8139281  1.000000  0.256000  \n",
       "4   GX062-53-0946803  0.007940  0.205853  \n",
       "\n",
       "[5 rows x 51 columns]"
      ]
     },
     "execution_count": 2,
     "metadata": {},
     "output_type": "execute_result"
    }
   ],
   "source": [
    "train_dataset.dataset.head()"
   ]
  },
  {
   "cell_type": "code",
   "execution_count": 3,
   "metadata": {},
   "outputs": [
    {
     "data": {
      "text/plain": [
       "354"
      ]
     },
     "execution_count": 3,
     "metadata": {},
     "output_type": "execute_result"
    }
   ],
   "source": [
    "len(train_dataset)"
   ]
  },
  {
   "cell_type": "code",
   "execution_count": 3,
   "metadata": {},
   "outputs": [
    {
     "name": "stdout",
     "output_type": "stream",
     "text": [
      "PearsonRResult(statistic=0.0571029456122412, pvalue=3.0023565646462906e-08) PearsonRResult(statistic=0.5750798594495724, pvalue=0.0) PearsonRResult(statistic=0.11115343735460118, pvalue=3.049911708873801e-27)\n"
     ]
    }
   ],
   "source": [
    "from scipy.stats import pearsonr\n",
    "df = train_dataset.dataset\n",
    "x = df['relevance_label'].to_numpy()\n",
    "y = df['inc'].to_numpy()\n",
    "z = df['prob'].to_numpy()\n",
    "\n",
    "corr1 = pearsonr(x, y)\n",
    "corr2 = pearsonr(x, z)\n",
    "corr3 = pearsonr(y, z)\n",
    "print(corr1, corr2, corr3)"
   ]
  },
  {
   "cell_type": "code",
   "execution_count": 7,
   "metadata": {},
   "outputs": [
    {
     "name": "stdout",
     "output_type": "stream",
     "text": [
      "1\n",
      "2\n",
      "3\n",
      "5\n",
      "12\n",
      "17\n",
      "22\n",
      "26\n",
      "28\n",
      "32\n",
      "35\n",
      "36\n",
      "41\n",
      "46\n",
      "52\n",
      "56\n",
      "57\n",
      "63\n",
      "67\n",
      "73\n",
      "77\n",
      "82\n",
      "84\n",
      "85\n",
      "87\n",
      "94\n",
      "101\n",
      "106\n",
      "107\n",
      "109\n",
      "111\n",
      "113\n",
      "115\n",
      "122\n",
      "127\n",
      "131\n",
      "132\n",
      "133\n",
      "134\n",
      "135\n",
      "137\n",
      "139\n",
      "146\n",
      "149\n",
      "153\n",
      "159\n",
      "161\n",
      "166\n",
      "177\n",
      "178\n",
      "183\n",
      "191\n",
      "203\n",
      "209\n",
      "217\n",
      "221\n",
      "225\n",
      "233\n",
      "235\n",
      "237\n",
      "238\n",
      "239\n",
      "243\n",
      "244\n",
      "246\n",
      "249\n",
      "258\n",
      "259\n",
      "260\n",
      "264\n",
      "278\n",
      "279\n",
      "280\n",
      "283\n",
      "296\n",
      "300\n",
      "301\n",
      "305\n",
      "307\n",
      "309\n",
      "318\n",
      "331\n",
      "332\n",
      "341\n",
      "343\n",
      "346\n",
      "352\n",
      "362\n",
      "364\n",
      "365\n",
      "370\n",
      "374\n",
      "375\n",
      "378\n",
      "381\n",
      "385\n",
      "393\n",
      "401\n",
      "403\n",
      "407\n",
      "410\n",
      "411\n",
      "412\n",
      "416\n",
      "420\n",
      "423\n",
      "424\n",
      "427\n",
      "432\n",
      "440\n",
      "441\n",
      "449\n",
      "450\n",
      "453\n",
      "454\n",
      "455\n",
      "461\n"
     ]
    }
   ],
   "source": [
    "import numpy as np\n",
    "\n",
    "\n",
    "for i, (f, t) in enumerate(train_dataset):\n",
    "    if np.sum(t>0) == 0:\n",
    "        print(i)"
   ]
  },
  {
   "cell_type": "code",
   "execution_count": 21,
   "metadata": {},
   "outputs": [
    {
     "data": {
      "text/plain": [
       "(1017, 336)"
      ]
     },
     "execution_count": 21,
     "metadata": {},
     "output_type": "execute_result"
    }
   ],
   "source": [
    "len(train_dataset), len(val_dataset)"
   ]
  },
  {
   "cell_type": "code",
   "execution_count": 14,
   "metadata": {},
   "outputs": [
    {
     "ename": "AttributeError",
     "evalue": "'DataFrame' object has no attribute 'to_list'",
     "output_type": "error",
     "traceback": [
      "\u001b[0;31m---------------------------------------------------------------------------\u001b[0m",
      "\u001b[0;31mAttributeError\u001b[0m                            Traceback (most recent call last)",
      "\u001b[0;32m/tmp/ipykernel_95503/1796530733.py\u001b[0m in \u001b[0;36m?\u001b[0;34m()\u001b[0m\n\u001b[0;32m----> 1\u001b[0;31m \u001b[0mdf\u001b[0m\u001b[0;34m.\u001b[0m\u001b[0mdrop\u001b[0m\u001b[0;34m(\u001b[0m\u001b[0mcolumns\u001b[0m\u001b[0;34m=\u001b[0m\u001b[0;34m[\u001b[0m\u001b[0;34m'relevance_label'\u001b[0m\u001b[0;34m,\u001b[0m \u001b[0;34m'qid'\u001b[0m\u001b[0;34m,\u001b[0m \u001b[0;34m'docid'\u001b[0m\u001b[0;34m]\u001b[0m\u001b[0;34m)\u001b[0m\u001b[0;34m.\u001b[0m\u001b[0mto_list\u001b[0m\u001b[0;34m(\u001b[0m\u001b[0;34m)\u001b[0m\u001b[0;34m\u001b[0m\u001b[0;34m\u001b[0m\u001b[0m\n\u001b[0m",
      "\u001b[0;32m~/repos/recsys/.venv/lib/python3.10/site-packages/pandas/core/generic.py\u001b[0m in \u001b[0;36m?\u001b[0;34m(self, name)\u001b[0m\n\u001b[1;32m   6200\u001b[0m             \u001b[0;32mand\u001b[0m \u001b[0mname\u001b[0m \u001b[0;32mnot\u001b[0m \u001b[0;32min\u001b[0m \u001b[0mself\u001b[0m\u001b[0;34m.\u001b[0m\u001b[0m_accessors\u001b[0m\u001b[0;34m\u001b[0m\u001b[0;34m\u001b[0m\u001b[0m\n\u001b[1;32m   6201\u001b[0m             \u001b[0;32mand\u001b[0m \u001b[0mself\u001b[0m\u001b[0;34m.\u001b[0m\u001b[0m_info_axis\u001b[0m\u001b[0;34m.\u001b[0m\u001b[0m_can_hold_identifiers_and_holds_name\u001b[0m\u001b[0;34m(\u001b[0m\u001b[0mname\u001b[0m\u001b[0;34m)\u001b[0m\u001b[0;34m\u001b[0m\u001b[0;34m\u001b[0m\u001b[0m\n\u001b[1;32m   6202\u001b[0m         ):\n\u001b[1;32m   6203\u001b[0m             \u001b[0;32mreturn\u001b[0m \u001b[0mself\u001b[0m\u001b[0;34m[\u001b[0m\u001b[0mname\u001b[0m\u001b[0;34m]\u001b[0m\u001b[0;34m\u001b[0m\u001b[0;34m\u001b[0m\u001b[0m\n\u001b[0;32m-> 6204\u001b[0;31m         \u001b[0;32mreturn\u001b[0m \u001b[0mobject\u001b[0m\u001b[0;34m.\u001b[0m\u001b[0m__getattribute__\u001b[0m\u001b[0;34m(\u001b[0m\u001b[0mself\u001b[0m\u001b[0;34m,\u001b[0m \u001b[0mname\u001b[0m\u001b[0;34m)\u001b[0m\u001b[0;34m\u001b[0m\u001b[0;34m\u001b[0m\u001b[0m\n\u001b[0m",
      "\u001b[0;31mAttributeError\u001b[0m: 'DataFrame' object has no attribute 'to_list'"
     ]
    }
   ],
   "source": [
    "df.drop(columns=['relevance_label', 'qid', 'docid']).to_list()"
   ]
  },
  {
   "cell_type": "code",
   "execution_count": 39,
   "metadata": {},
   "outputs": [
    {
     "data": {
      "image/png": "[encoded data removed]",
      "text/plain": [
       "<Figure size 640x480 with 1 Axes>"
      ]
     },
     "metadata": {},
     "output_type": "display_data"
    }
   ],
   "source": [
    "import matplotlib.pyplot as plt\n",
    "\n",
    "plt.hist(df.groupby(by='qid')['docid'].count(), bins=30, log=True)\n",
    "plt.grid()"
   ]
  },
  {
   "cell_type": "markdown",
   "metadata": {},
   "source": []
  },
  {
   "cell_type": "code",
   "execution_count": null,
   "metadata": {},
   "outputs": [],
   "source": []
  }
 ],
 "metadata": {
  "kernelspec": {
   "display_name": "VENV",
   "language": "python",
   "name": "python3"
  },
  "language_info": {
   "codemirror_mode": {
    "name": "ipython",
    "version": 3
   },
   "file_extension": ".py",
   "mimetype": "text/x-python",
   "name": "python",
   "nbconvert_exporter": "python",
   "pygments_lexer": "ipython3",
   "version": "3.10.12"
  }
 },
 "nbformat": 4,
 "nbformat_minor": 2
}
